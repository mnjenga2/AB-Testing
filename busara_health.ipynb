{
 "cells": [
  {
   "cell_type": "markdown",
   "metadata": {},
   "source": [
    "## We import libraries"
   ]
  },
  {
   "cell_type": "code",
   "execution_count": 1,
   "metadata": {},
   "outputs": [],
   "source": [
    "import pandas as pd\n",
    "import numpy as np\n",
    "import matplotlib.pyplot as plt\n",
    "%matplotlib inline\n",
    "%config IPCompleter.greedy=True\n",
    "import warnings\n",
    "warnings.filterwarnings('ignore')\n",
    "import seaborn as sns\n",
    "import sklearn\n",
    "from sklearn_pandas import DataFrameMapper\n",
    "from sklearn.model_selection import train_test_split\n",
    "from sklearn.preprocessing import OneHotEncoder, LabelBinarizer\n",
    "from sklearn.ensemble import GradientBoostingClassifier, RandomForestClassifier\n",
    "from sklearn.linear_model import LogisticRegression\n",
    "from sklearn.naive_bayes import GaussianNB\n",
    "from sklearn.model_selection import GridSearchCV\n",
    "from sklearn.metrics import roc_curve, auc, confusion_matrix, accuracy_score\n",
    "from yellowbrick.features.importances import FeatureImportances\n",
    "import os"
   ]
  },
  {
   "cell_type": "markdown",
   "metadata": {},
   "source": [
    "# a) Import the dataset and clean the data of any anomalies.\n",
    "## We create a working directory and import the file"
   ]
  },
  {
   "cell_type": "code",
   "execution_count": 2,
   "metadata": {},
   "outputs": [
    {
     "data": {
      "text/plain": [
       "['Data Task Instructions.pdf', 'HealthInsurance.xlsx', 'School data.xlsx']"
      ]
     },
     "execution_count": 2,
     "metadata": {},
     "output_type": "execute_result"
    }
   ],
   "source": [
    "os.chdir(\"/Busara_Data_Task_April_2019\")\n",
    "os.listdir('.')"
   ]
  },
  {
   "cell_type": "code",
   "execution_count": 3,
   "metadata": {},
   "outputs": [
    {
     "data": {
      "text/plain": [
       "['Sheet 1']"
      ]
     },
     "execution_count": 3,
     "metadata": {},
     "output_type": "execute_result"
    }
   ],
   "source": [
    "health = pd.ExcelFile('HealthInsurance.xlsx')\n",
    "health.sheet_names #view the sheets"
   ]
  },
  {
   "cell_type": "code",
   "execution_count": 4,
   "metadata": {},
   "outputs": [
    {
     "data": {
      "text/html": [
       "<div>\n",
       "<style scoped>\n",
       "    .dataframe tbody tr th:only-of-type {\n",
       "        vertical-align: middle;\n",
       "    }\n",
       "\n",
       "    .dataframe tbody tr th {\n",
       "        vertical-align: top;\n",
       "    }\n",
       "\n",
       "    .dataframe thead th {\n",
       "        text-align: right;\n",
       "    }\n",
       "</style>\n",
       "<table border=\"1\" class=\"dataframe\">\n",
       "  <thead>\n",
       "    <tr style=\"text-align: right;\">\n",
       "      <th></th>\n",
       "      <th>pid</th>\n",
       "      <th>self-reported health status</th>\n",
       "      <th>age in years</th>\n",
       "      <th>Is there any hindrace to receiving medical attention</th>\n",
       "      <th>gender of the respondent</th>\n",
       "      <th>Do you have health insurance?</th>\n",
       "      <th>Are you married?</th>\n",
       "      <th>Are you self employed?</th>\n",
       "      <th>house hold size</th>\n",
       "      <th>region of residence</th>\n",
       "      <th>respondent's ethnicity</th>\n",
       "      <th>highest level of education</th>\n",
       "    </tr>\n",
       "  </thead>\n",
       "  <tbody>\n",
       "    <tr>\n",
       "      <th>0</th>\n",
       "      <td>PO1</td>\n",
       "      <td>YES</td>\n",
       "      <td>31</td>\n",
       "      <td>no</td>\n",
       "      <td>male</td>\n",
       "      <td>yes</td>\n",
       "      <td>yes</td>\n",
       "      <td>yes</td>\n",
       "      <td>4</td>\n",
       "      <td>south</td>\n",
       "      <td>zulu</td>\n",
       "      <td>bachelor</td>\n",
       "    </tr>\n",
       "    <tr>\n",
       "      <th>1</th>\n",
       "      <td>PO2</td>\n",
       "      <td>YES</td>\n",
       "      <td>31</td>\n",
       "      <td>no</td>\n",
       "      <td>Female</td>\n",
       "      <td>yes</td>\n",
       "      <td>yes</td>\n",
       "      <td>no</td>\n",
       "      <td>4</td>\n",
       "      <td>south</td>\n",
       "      <td>zulu</td>\n",
       "      <td>highschool</td>\n",
       "    </tr>\n",
       "    <tr>\n",
       "      <th>2</th>\n",
       "      <td>PO3</td>\n",
       "      <td>YES</td>\n",
       "      <td>54</td>\n",
       "      <td>no</td>\n",
       "      <td>male</td>\n",
       "      <td>yes</td>\n",
       "      <td>yes</td>\n",
       "      <td>no</td>\n",
       "      <td>5</td>\n",
       "      <td>west</td>\n",
       "      <td>zulu</td>\n",
       "      <td>adult education high school</td>\n",
       "    </tr>\n",
       "    <tr>\n",
       "      <th>3</th>\n",
       "      <td>PO4</td>\n",
       "      <td>YES</td>\n",
       "      <td>27</td>\n",
       "      <td>no</td>\n",
       "      <td>male</td>\n",
       "      <td>yes</td>\n",
       "      <td>no</td>\n",
       "      <td>no</td>\n",
       "      <td>5</td>\n",
       "      <td>west</td>\n",
       "      <td>zulu</td>\n",
       "      <td>highschool</td>\n",
       "    </tr>\n",
       "    <tr>\n",
       "      <th>4</th>\n",
       "      <td>PO5</td>\n",
       "      <td>YES</td>\n",
       "      <td>39</td>\n",
       "      <td>no</td>\n",
       "      <td>male</td>\n",
       "      <td>yes</td>\n",
       "      <td>yes</td>\n",
       "      <td>no</td>\n",
       "      <td>5</td>\n",
       "      <td>west</td>\n",
       "      <td>zulu</td>\n",
       "      <td>none</td>\n",
       "    </tr>\n",
       "  </tbody>\n",
       "</table>\n",
       "</div>"
      ],
      "text/plain": [
       "   pid self-reported health status  age in years  \\\n",
       "0  PO1                         YES            31   \n",
       "1  PO2                         YES            31   \n",
       "2  PO3                         YES            54   \n",
       "3  PO4                         YES            27   \n",
       "4  PO5                         YES            39   \n",
       "\n",
       "  Is there any hindrace to receiving medical attention  \\\n",
       "0                                                 no     \n",
       "1                                                 no     \n",
       "2                                                 no     \n",
       "3                                                 no     \n",
       "4                                                 no     \n",
       "\n",
       "  gender of the respondent Do you have health insurance? Are you married?  \\\n",
       "0                     male                           yes              yes   \n",
       "1                   Female                           yes              yes   \n",
       "2                     male                           yes              yes   \n",
       "3                     male                           yes               no   \n",
       "4                     male                           yes              yes   \n",
       "\n",
       "  Are you self employed?  house hold size region of residence  \\\n",
       "0                    yes                4               south   \n",
       "1                     no                4               south   \n",
       "2                     no                5                west   \n",
       "3                     no                5                west   \n",
       "4                     no                5                west   \n",
       "\n",
       "  respondent's ethnicity   highest level of education  \n",
       "0                   zulu                     bachelor  \n",
       "1                   zulu                   highschool  \n",
       "2                   zulu  adult education high school  \n",
       "3                   zulu                   highschool  \n",
       "4                   zulu                         none  "
      ]
     },
     "execution_count": 4,
     "metadata": {},
     "output_type": "execute_result"
    }
   ],
   "source": [
    "# create a dataframe from the sheet\n",
    "df= health.parse('Sheet 1')\n",
    "df.head()"
   ]
  },
  {
   "cell_type": "code",
   "execution_count": 5,
   "metadata": {},
   "outputs": [
    {
     "name": "stdout",
     "output_type": "stream",
     "text": [
      "The dataframe has got 8802 rows and 12 columns.\n"
     ]
    }
   ],
   "source": [
    "print(\"The dataframe has got {} rows and {} columns.\".format(df.shape[0], df.shape[1]))"
   ]
  },
  {
   "cell_type": "code",
   "execution_count": 6,
   "metadata": {},
   "outputs": [
    {
     "data": {
      "text/plain": [
       "8802"
      ]
     },
     "execution_count": 6,
     "metadata": {},
     "output_type": "execute_result"
    }
   ],
   "source": [
    "df['pid'].nunique()"
   ]
  },
  {
   "cell_type": "markdown",
   "metadata": {},
   "source": [
    "## Check for null "
   ]
  },
  {
   "cell_type": "code",
   "execution_count": 7,
   "metadata": {},
   "outputs": [
    {
     "data": {
      "text/plain": [
       "pid                                                     0\n",
       "self-reported health status                             0\n",
       "age in years                                            0\n",
       "Is there any hindrace to receiving medical attention    0\n",
       "gender of the respondent                                0\n",
       "Do you have health insurance?                           0\n",
       "Are you married?                                        0\n",
       "Are you self employed?                                  0\n",
       "house hold size                                         0\n",
       "region of residence                                     0\n",
       "respondent's ethnicity                                  0\n",
       "highest level of education                              0\n",
       "dtype: int64"
      ]
     },
     "execution_count": 7,
     "metadata": {},
     "output_type": "execute_result"
    }
   ],
   "source": [
    "df.isnull().sum()"
   ]
  },
  {
   "cell_type": "code",
   "execution_count": 8,
   "metadata": {
    "scrolled": true
   },
   "outputs": [
    {
     "data": {
      "text/plain": [
       "['pid',\n",
       " 'self-reported health status',\n",
       " 'age in years',\n",
       " 'Is there any hindrace to receiving medical attention',\n",
       " 'gender of the respondent',\n",
       " 'Do you have health insurance?',\n",
       " 'Are you married?',\n",
       " 'Are you self employed?',\n",
       " 'house hold size',\n",
       " 'region of residence',\n",
       " \"respondent's ethnicity\",\n",
       " 'highest level of education']"
      ]
     },
     "execution_count": 8,
     "metadata": {},
     "output_type": "execute_result"
    }
   ],
   "source": [
    "# List the columns\n",
    "df.columns.tolist()"
   ]
  },
  {
   "cell_type": "markdown",
   "metadata": {},
   "source": [
    "## Check distribution of values per column"
   ]
  },
  {
   "cell_type": "code",
   "execution_count": 8,
   "metadata": {},
   "outputs": [
    {
     "data": {
      "text/plain": [
       "yes    8124\n",
       "no      588\n",
       "N        41\n",
       "YES      31\n",
       "Y        18\n",
       "Name: self-reported health status, dtype: int64"
      ]
     },
     "execution_count": 8,
     "metadata": {},
     "output_type": "execute_result"
    }
   ],
   "source": [
    "# Distribution of values in 'self-reported health status' column\n",
    "df['self-reported health status'].value_counts()\n",
    "# This needs cleaning to merge yes with YES, y and no with N"
   ]
  },
  {
   "cell_type": "code",
   "execution_count": 10,
   "metadata": {},
   "outputs": [
    {
     "data": {
      "text/plain": [
       "YES    8173\n",
       "NO      629\n",
       "Name: self_reported_h_status, dtype: int64"
      ]
     },
     "execution_count": 10,
     "metadata": {},
     "output_type": "execute_result"
    }
   ],
   "source": [
    "# we create a new column to where we \n",
    "df['self_reported_h_status'] = np.where(np.logical_or(df['self-reported health status']=='no', df['self-reported health status']=='N'), 'NO','YES')\n",
    "df['self_reported_h_status'].value_counts()"
   ]
  },
  {
   "cell_type": "code",
   "execution_count": 9,
   "metadata": {
    "scrolled": true
   },
   "outputs": [
    {
     "data": {
      "text/plain": [
       "count    8802.000000\n",
       "mean       38.936833\n",
       "std        11.110823\n",
       "min        18.000000\n",
       "25%        30.000000\n",
       "50%        39.000000\n",
       "75%        48.000000\n",
       "max        62.000000\n",
       "Name: age in years, dtype: float64"
      ]
     },
     "execution_count": 9,
     "metadata": {},
     "output_type": "execute_result"
    }
   ],
   "source": [
    "# age summary statistics\n",
    "df['age in years'].describe()"
   ]
  },
  {
   "cell_type": "code",
   "execution_count": 10,
   "metadata": {},
   "outputs": [
    {
     "data": {
      "text/plain": [
       "no     7571\n",
       "yes    1231\n",
       "Name: Is there any hindrace to receiving medical attention, dtype: int64"
      ]
     },
     "execution_count": 10,
     "metadata": {},
     "output_type": "execute_result"
    }
   ],
   "source": [
    "df['Is there any hindrace to receiving medical attention'].value_counts()"
   ]
  },
  {
   "cell_type": "code",
   "execution_count": 13,
   "metadata": {},
   "outputs": [
    {
     "data": {
      "text/plain": [
       "male      4633\n",
       "female    4078\n",
       "F           69\n",
       "Female      22\n",
       "Name: gender of the respondent, dtype: int64"
      ]
     },
     "execution_count": 13,
     "metadata": {},
     "output_type": "execute_result"
    }
   ],
   "source": [
    "# Distribution of items across gender\n",
    "df['gender of the respondent'].value_counts()\n",
    "# Needs cleaning to merge female, F and Female"
   ]
  },
  {
   "cell_type": "code",
   "execution_count": 11,
   "metadata": {},
   "outputs": [
    {
     "data": {
      "text/plain": [
       "MALE      4633\n",
       "FEMALE    4169\n",
       "Name: gender, dtype: int64"
      ]
     },
     "execution_count": 11,
     "metadata": {},
     "output_type": "execute_result"
    }
   ],
   "source": [
    "# we create a new column called gender to correct the above\n",
    "df['gender'] = np.where(df['gender of the respondent']=='male', 'MALE', 'FEMALE' )\n",
    "df.gender.value_counts()"
   ]
  },
  {
   "cell_type": "code",
   "execution_count": 12,
   "metadata": {},
   "outputs": [
    {
     "data": {
      "text/plain": [
       "yes    7052\n",
       "no     1750\n",
       "Name: Do you have health insurance?, dtype: int64"
      ]
     },
     "execution_count": 12,
     "metadata": {},
     "output_type": "execute_result"
    }
   ],
   "source": [
    "# Distribution of values in 'Do you have health insurance?' column\n",
    "df['Do you have health insurance?'].value_counts()"
   ]
  },
  {
   "cell_type": "code",
   "execution_count": 13,
   "metadata": {},
   "outputs": [
    {
     "data": {
      "text/plain": [
       "yes    5433\n",
       "no     3369\n",
       "Name: Are you married?, dtype: int64"
      ]
     },
     "execution_count": 13,
     "metadata": {},
     "output_type": "execute_result"
    }
   ],
   "source": [
    "# Distribution of values in 'Are you married?' column\n",
    "df['Are you married?'].value_counts()"
   ]
  },
  {
   "cell_type": "code",
   "execution_count": 14,
   "metadata": {},
   "outputs": [
    {
     "data": {
      "text/plain": [
       "no     7731\n",
       "yes    1071\n",
       "Name: Are you self employed?, dtype: int64"
      ]
     },
     "execution_count": 14,
     "metadata": {},
     "output_type": "execute_result"
    }
   ],
   "source": [
    "# Distribution across 'Are you self employed?' column\n",
    "df['Are you self employed?'].value_counts()"
   ]
  },
  {
   "cell_type": "code",
   "execution_count": 15,
   "metadata": {},
   "outputs": [
    {
     "data": {
      "text/plain": [
       "count    8802.000000\n",
       "mean        3.093501\n",
       "std         1.559633\n",
       "min         1.000000\n",
       "25%         2.000000\n",
       "50%         3.000000\n",
       "75%         4.000000\n",
       "max        14.000000\n",
       "Name: house hold size, dtype: float64"
      ]
     },
     "execution_count": 15,
     "metadata": {},
     "output_type": "execute_result"
    }
   ],
   "source": [
    "# 'house hold size' summary stats\n",
    "df['house hold size'].describe()"
   ]
  },
  {
   "cell_type": "code",
   "execution_count": 16,
   "metadata": {},
   "outputs": [
    {
     "data": {
      "text/plain": [
       "south        3075\n",
       "midwest      2023\n",
       "west         2022\n",
       "northeast    1682\n",
       "Name: region of residence, dtype: int64"
      ]
     },
     "execution_count": 16,
     "metadata": {},
     "output_type": "execute_result"
    }
   ],
   "source": [
    "# Distribution of values in 'region of residence' column\n",
    "df['region of residence'].value_counts()"
   ]
  },
  {
   "cell_type": "code",
   "execution_count": 17,
   "metadata": {},
   "outputs": [
    {
     "data": {
      "text/plain": [
       "zulu        7354\n",
       "Ndembele    1083\n",
       "other        365\n",
       "Name: respondent's ethnicity, dtype: int64"
      ]
     },
     "execution_count": 17,
     "metadata": {},
     "output_type": "execute_result"
    }
   ],
   "source": [
    "# Distribution of values in \"respondent's ethnicity\" column\n",
    "df[\"respondent's ethnicity\"].value_counts()"
   ]
  },
  {
   "cell_type": "code",
   "execution_count": 21,
   "metadata": {
    "scrolled": true
   },
   "outputs": [
    {
     "data": {
      "text/plain": [
       "highschool                     4410\n",
       "bachelor                       1549\n",
       "none                           1119\n",
       "other                           667\n",
       "master                          524\n",
       "adult education high school     374\n",
       "phd                             135\n",
       "high-school                      24\n",
       "Name: highest level of education, dtype: int64"
      ]
     },
     "execution_count": 21,
     "metadata": {},
     "output_type": "execute_result"
    }
   ],
   "source": [
    "# Distribution of values in 'highest level of education'\n",
    "df['highest level of education'].value_counts()"
   ]
  },
  {
   "cell_type": "markdown",
   "metadata": {},
   "source": [
    "# b) What is the distribution of the sample in terms of (i) gender and (ii) age?"
   ]
  },
  {
   "cell_type": "code",
   "execution_count": 7,
   "metadata": {},
   "outputs": [
    {
     "data": {
      "text/plain": [
       "<matplotlib.axes._subplots.AxesSubplot at 0x23decdab588>"
      ]
     },
     "execution_count": 7,
     "metadata": {},
     "output_type": "execute_result"
    },
    {
     "data": {
      "image/png": "[encoded data removed]",
      "text/plain": [
       "<Figure size 432x288 with 1 Axes>"
      ]
     },
     "metadata": {
      "needs_background": "light"
     },
     "output_type": "display_data"
    }
   ],
   "source": [
    "sns.distplot(df['age in years'])"
   ]
  },
  {
   "cell_type": "code",
   "execution_count": 6,
   "metadata": {
    "scrolled": false
   },
   "outputs": [
    {
     "data": {
      "text/plain": [
       "<matplotlib.axes._subplots.AxesSubplot at 0x23dec9d2d30>"
      ]
     },
     "execution_count": 6,
     "metadata": {},
     "output_type": "execute_result"
    },
    {
     "data": {
      "image/png": "[encoded data removed]",
      "text/plain": [
       "<Figure size 432x288 with 1 Axes>"
      ]
     },
     "metadata": {
      "needs_background": "light"
     },
     "output_type": "display_data"
    }
   ],
   "source": [
    "\n",
    "sns.kdeplot(df['age in years'])"
   ]
  },
  {
   "cell_type": "code",
   "execution_count": 23,
   "metadata": {},
   "outputs": [],
   "source": [
    "# Age follows a normal distribution "
   ]
  },
  {
   "cell_type": "code",
   "execution_count": 24,
   "metadata": {
    "scrolled": true
   },
   "outputs": [
    {
     "data": {
      "text/plain": [
       "<matplotlib.axes._subplots.AxesSubplot at 0x189f8836be0>"
      ]
     },
     "execution_count": 24,
     "metadata": {},
     "output_type": "execute_result"
    },
    {
     "data": {
      "image/png": "[encoded data removed]",
      "text/plain": [
       "<Figure size 432x288 with 1 Axes>"
      ]
     },
     "metadata": {
      "needs_background": "light"
     },
     "output_type": "display_data"
    }
   ],
   "source": [
    "sns.countplot(df['gender'])"
   ]
  },
  {
   "cell_type": "markdown",
   "metadata": {},
   "source": [
    "# c) Ideally, we expect respondents with poor health status to have health insurance. Is this the case according to this data? Using an appropriate statistical test, investigate the relationship between the two variables. Specify the hypothesis being tested here."
   ]
  },
  {
   "cell_type": "markdown",
   "metadata": {},
   "source": [
    "## Null hypothesis being tested is poor health status significantly influences health insurance cover uptake.\n",
    "## we compute the Pearson correlation coefficient. The Pearson correlation coefficient is one of the most common methods to quantify correlation between variables, and by convention, the following thresholds are usually used:\n",
    "\n",
    "### 0.2 = weak\n",
    "### 0.5 = medium\n",
    "### 0.8 = strong\n",
    "### 0.9 = very strong"
   ]
  },
  {
   "cell_type": "code",
   "execution_count": 64,
   "metadata": {},
   "outputs": [
    {
     "data": {
      "text/plain": [
       "0.0507704844108623"
      ]
     },
     "execution_count": 64,
     "metadata": {},
     "output_type": "execute_result"
    }
   ],
   "source": [
    "df['health_status']=np.where(df['self_reported_h_status']=='YES', 1, 0)\n",
    "#We assume 1 for poor health status and 0 for otherwise\n",
    "df['insurance_cover'] = np.where(df['Do you have health insurance?']=='yes',1,0)\n",
    "df['health_status'].corr(df['insurance_cover'])"
   ]
  },
  {
   "cell_type": "markdown",
   "metadata": {},
   "source": [
    "##  Poor health status is weakly correlated to Insurance cover uptake with a pearseon correlation of 0.05\n",
    "## Null hypothesis is False"
   ]
  },
  {
   "cell_type": "markdown",
   "metadata": {},
   "source": [
    "# d) Determine the ethnicity of majority of the respondents. Filter respondents for the major ethnicity and count of respondents who are self-employed and have a health insurance cover."
   ]
  },
  {
   "cell_type": "code",
   "execution_count": 26,
   "metadata": {
    "scrolled": true
   },
   "outputs": [
    {
     "data": {
      "text/plain": [
       "zulu        7354\n",
       "Ndembele    1083\n",
       "other        365\n",
       "Name: respondent's ethnicity, dtype: int64"
      ]
     },
     "execution_count": 26,
     "metadata": {},
     "output_type": "execute_result"
    }
   ],
   "source": [
    "df[\"respondent's ethnicity\"].value_counts()"
   ]
  },
  {
   "cell_type": "code",
   "execution_count": 27,
   "metadata": {},
   "outputs": [
    {
     "name": "stdout",
     "output_type": "stream",
     "text": [
      "Majority ethnicity is zulu with 7354\n"
     ]
    }
   ],
   "source": [
    "print('Majority ethnicity is zulu with {}'.format(df[\"respondent's ethnicity\"].value_counts()[0]))"
   ]
  },
  {
   "cell_type": "code",
   "execution_count": 28,
   "metadata": {},
   "outputs": [],
   "source": [
    "# We filter df for zulu ethnicity\n",
    "zulu = df[df[\"respondent's ethnicity\"]=='zulu']"
   ]
  },
  {
   "cell_type": "code",
   "execution_count": 29,
   "metadata": {},
   "outputs": [
    {
     "data": {
      "text/plain": [
       "no     6403\n",
       "yes     951\n",
       "Name: Are you self employed?, dtype: int64"
      ]
     },
     "execution_count": 29,
     "metadata": {},
     "output_type": "execute_result"
    }
   ],
   "source": [
    "# Distribution of values in 'Are you self employed?' column\n",
    "zulu['Are you self employed?'].value_counts()"
   ]
  },
  {
   "cell_type": "code",
   "execution_count": 30,
   "metadata": {
    "scrolled": false
   },
   "outputs": [
    {
     "data": {
      "text/plain": [
       "yes    5953\n",
       "no     1401\n",
       "Name: Do you have health insurance?, dtype: int64"
      ]
     },
     "execution_count": 30,
     "metadata": {},
     "output_type": "execute_result"
    }
   ],
   "source": [
    "# Distribution of value in 'Do you have health insurance?' column\n",
    "zulu['Do you have health insurance?'].value_counts()"
   ]
  },
  {
   "cell_type": "code",
   "execution_count": 31,
   "metadata": {},
   "outputs": [
    {
     "name": "stdout",
     "output_type": "stream",
     "text": [
      "The total number of respondents of zulu ethnicity who are employed and have an insurance cover is 671.\n"
     ]
    }
   ],
   "source": [
    "# filter zulu ethnicity who are self employed and have insurance cover\n",
    "print('The total number of respondents of zulu ethnicity who are employed and have an insurance cover is {}.'.format(len(zulu.loc[(zulu['Are you self employed?']=='yes') & (zulu['Do you have health insurance?']=='yes')])))"
   ]
  },
  {
   "cell_type": "markdown",
   "metadata": {},
   "source": [
    "# e) An insurance company would like to use this data to understand what factors drive insurance uptake. Select an appropriate statistical model for this task and give reasons for the choice."
   ]
  },
  {
   "cell_type": "markdown",
   "metadata": {},
   "source": [
    "## We choose our target variable and features variables.\n",
    "## Our target variable will be 'Do you have health insurance?' column which is contains yes or no values.\n",
    "## Representing the values as 1 for yes and 0 for 0 leads to binary classification model."
   ]
  },
  {
   "cell_type": "code",
   "execution_count": 62,
   "metadata": {},
   "outputs": [
    {
     "data": {
      "text/plain": [
       "1    7052\n",
       "0    1750\n",
       "Name: insurance_cover, dtype: int64"
      ]
     },
     "execution_count": 62,
     "metadata": {},
     "output_type": "execute_result"
    }
   ],
   "source": [
    "df['insurance_cover'].value_counts()"
   ]
  },
  {
   "cell_type": "code",
   "execution_count": 33,
   "metadata": {},
   "outputs": [],
   "source": [
    "features = ['self_reported_h_status',\n",
    " 'Is there any hindrace to receiving medical attention',\n",
    " 'Are you married?',\n",
    " 'Are you self employed?',\n",
    " 'region of residence',\n",
    " \"respondent's ethnicity\",\n",
    " 'age in years',\n",
    " 'house hold size',\n",
    " 'highest level of education',\n",
    " 'gender']\n",
    "target = 'insurance_cover'"
   ]
  },
  {
   "cell_type": "code",
   "execution_count": 68,
   "metadata": {},
   "outputs": [
    {
     "data": {
      "text/html": [
       "<div>\n",
       "<style scoped>\n",
       "    .dataframe tbody tr th:only-of-type {\n",
       "        vertical-align: middle;\n",
       "    }\n",
       "\n",
       "    .dataframe tbody tr th {\n",
       "        vertical-align: top;\n",
       "    }\n",
       "\n",
       "    .dataframe thead th {\n",
       "        text-align: right;\n",
       "    }\n",
       "</style>\n",
       "<table border=\"1\" class=\"dataframe\">\n",
       "  <thead>\n",
       "    <tr style=\"text-align: right;\">\n",
       "      <th></th>\n",
       "      <th>self_reported_h_status</th>\n",
       "      <th>Is there any hindrace to receiving medical attention</th>\n",
       "      <th>Are you married?</th>\n",
       "      <th>Are you self employed?</th>\n",
       "      <th>region of residence</th>\n",
       "      <th>respondent's ethnicity</th>\n",
       "      <th>age in years</th>\n",
       "      <th>house hold size</th>\n",
       "      <th>highest level of education</th>\n",
       "      <th>gender</th>\n",
       "      <th>insurance_cover</th>\n",
       "    </tr>\n",
       "  </thead>\n",
       "  <tbody>\n",
       "    <tr>\n",
       "      <th>0</th>\n",
       "      <td>YES</td>\n",
       "      <td>no</td>\n",
       "      <td>yes</td>\n",
       "      <td>yes</td>\n",
       "      <td>south</td>\n",
       "      <td>zulu</td>\n",
       "      <td>31</td>\n",
       "      <td>4</td>\n",
       "      <td>bachelor</td>\n",
       "      <td>MALE</td>\n",
       "      <td>1</td>\n",
       "    </tr>\n",
       "    <tr>\n",
       "      <th>1</th>\n",
       "      <td>YES</td>\n",
       "      <td>no</td>\n",
       "      <td>yes</td>\n",
       "      <td>no</td>\n",
       "      <td>south</td>\n",
       "      <td>zulu</td>\n",
       "      <td>31</td>\n",
       "      <td>4</td>\n",
       "      <td>highschool</td>\n",
       "      <td>FEMALE</td>\n",
       "      <td>1</td>\n",
       "    </tr>\n",
       "    <tr>\n",
       "      <th>2</th>\n",
       "      <td>YES</td>\n",
       "      <td>no</td>\n",
       "      <td>yes</td>\n",
       "      <td>no</td>\n",
       "      <td>west</td>\n",
       "      <td>zulu</td>\n",
       "      <td>54</td>\n",
       "      <td>5</td>\n",
       "      <td>adult education high school</td>\n",
       "      <td>MALE</td>\n",
       "      <td>1</td>\n",
       "    </tr>\n",
       "    <tr>\n",
       "      <th>3</th>\n",
       "      <td>YES</td>\n",
       "      <td>no</td>\n",
       "      <td>no</td>\n",
       "      <td>no</td>\n",
       "      <td>west</td>\n",
       "      <td>zulu</td>\n",
       "      <td>27</td>\n",
       "      <td>5</td>\n",
       "      <td>highschool</td>\n",
       "      <td>MALE</td>\n",
       "      <td>1</td>\n",
       "    </tr>\n",
       "    <tr>\n",
       "      <th>4</th>\n",
       "      <td>YES</td>\n",
       "      <td>no</td>\n",
       "      <td>yes</td>\n",
       "      <td>no</td>\n",
       "      <td>west</td>\n",
       "      <td>zulu</td>\n",
       "      <td>39</td>\n",
       "      <td>5</td>\n",
       "      <td>none</td>\n",
       "      <td>MALE</td>\n",
       "      <td>1</td>\n",
       "    </tr>\n",
       "  </tbody>\n",
       "</table>\n",
       "</div>"
      ],
      "text/plain": [
       "  self_reported_h_status Is there any hindrace to receiving medical attention  \\\n",
       "0                    YES                                                 no     \n",
       "1                    YES                                                 no     \n",
       "2                    YES                                                 no     \n",
       "3                    YES                                                 no     \n",
       "4                    YES                                                 no     \n",
       "\n",
       "  Are you married? Are you self employed? region of residence  \\\n",
       "0              yes                    yes               south   \n",
       "1              yes                     no               south   \n",
       "2              yes                     no                west   \n",
       "3               no                     no                west   \n",
       "4              yes                     no                west   \n",
       "\n",
       "  respondent's ethnicity  age in years  house hold size  \\\n",
       "0                   zulu            31                4   \n",
       "1                   zulu            31                4   \n",
       "2                   zulu            54                5   \n",
       "3                   zulu            27                5   \n",
       "4                   zulu            39                5   \n",
       "\n",
       "    highest level of education  gender  insurance_cover  \n",
       "0                     bachelor    MALE                1  \n",
       "1                   highschool  FEMALE                1  \n",
       "2  adult education high school    MALE                1  \n",
       "3                   highschool    MALE                1  \n",
       "4                         none    MALE                1  "
      ]
     },
     "execution_count": 68,
     "metadata": {},
     "output_type": "execute_result"
    }
   ],
   "source": [
    "clean_data = df[features+[target]]\n",
    "clean_data.head()"
   ]
  },
  {
   "cell_type": "code",
   "execution_count": 35,
   "metadata": {},
   "outputs": [],
   "source": [
    "categorical_cols = [\n",
    " 'self-reported health status',\n",
    " 'Is there any hindrace to receiving medical attention',\n",
    " 'Do you have health insurance?',\n",
    " 'Are you married?',\n",
    " 'Are you self employed?',\n",
    " 'region of residence',\n",
    " \"respondent's ethnicity\",\n",
    " 'highest level of education',\n",
    " 'gender']\n",
    "numerical_cols = ['age in years', 'house hold size']"
   ]
  },
  {
   "cell_type": "code",
   "execution_count": 36,
   "metadata": {},
   "outputs": [],
   "source": [
    "mapper = DataFrameMapper([\n",
    "('self_reported_h_status',sklearn.preprocessing.LabelBinarizer()),\n",
    "('Is there any hindrace to receiving medical attention', sklearn.preprocessing.LabelBinarizer()),\n",
    "('Are you married?',sklearn.preprocessing.LabelBinarizer()),\n",
    "('Are you self employed?', sklearn.preprocessing.LabelBinarizer()),\n",
    "('region of residence', sklearn.preprocessing.LabelBinarizer()),\n",
    "(\"respondent's ethnicity\",sklearn.preprocessing.LabelBinarizer()),\n",
    "('highest level of education', sklearn.preprocessing.LabelBinarizer()),\n",
    "('gender', sklearn.preprocessing.LabelBinarizer()),\n",
    " ])\n",
    "\n",
    "X1=mapper.fit_transform(clean_data)\n",
    "X2=np.array(clean_data[numerical_cols])\n",
    "X = np.hstack((X1,X2)) #Combines X1 and X2 side by side, i.e. stacks them horizontally\n",
    "y=np.array(clean_data['insurance_cover'])"
   ]
  },
  {
   "cell_type": "code",
   "execution_count": 37,
   "metadata": {},
   "outputs": [],
   "source": [
    "# split into training and testing sets\n",
    "X_train, X_test, y_train, y_test = train_test_split(X, y, test_size=0.33, random_state=100, stratify=y)"
   ]
  },
  {
   "cell_type": "markdown",
   "metadata": {},
   "source": [
    "# Fit a Logistic regression"
   ]
  },
  {
   "cell_type": "code",
   "execution_count": 38,
   "metadata": {},
   "outputs": [
    {
     "data": {
      "text/plain": [
       "0.8110154905335628"
      ]
     },
     "execution_count": 38,
     "metadata": {},
     "output_type": "execute_result"
    }
   ],
   "source": [
    "log_lm = LogisticRegression()\n",
    "log_lm.fit(X_train, y_train)\n",
    "y_pred = log_lm.predict(X_test)\n",
    "log_lm.score(X_test, y_test)"
   ]
  },
  {
   "cell_type": "code",
   "execution_count": 39,
   "metadata": {},
   "outputs": [
    {
     "data": {
      "text/plain": [
       "array([[ 0.21786278, -0.03898928,  0.88728509, -1.20130013,  0.29855977,\n",
       "         0.20385683, -0.09817383, -0.15837807,  0.11976904, -0.13433073,\n",
       "         0.2604264 , -0.72391967,  0.38213939,  0.41060447, -0.1616951 ,\n",
       "         0.56272933, -1.48964944,  0.14927436,  1.11638138, -0.25839105,\n",
       "         0.02784069, -0.07583595]])"
      ]
     },
     "execution_count": 39,
     "metadata": {},
     "output_type": "execute_result"
    }
   ],
   "source": [
    "log_lm.coef_"
   ]
  },
  {
   "cell_type": "code",
   "execution_count": 46,
   "metadata": {},
   "outputs": [
    {
     "data": {
      "image/png": "[encoded data removed]",
      "text/plain": [
       "<Figure size 432x288 with 1 Axes>"
      ]
     },
     "metadata": {
      "needs_background": "light"
     },
     "output_type": "display_data"
    }
   ],
   "source": [
    "# Create a new matplotlib figure\n",
    "fig = plt.figure()\n",
    "ax = fig.add_subplot()\n",
    "viz = FeatureImportances(log_lm, ax=ax)\n",
    "viz.fit(X, y)\n",
    "viz.poof()"
   ]
  },
  {
   "cell_type": "markdown",
   "metadata": {},
   "source": [
    "#  Fit a GradientBoosting Classifier model"
   ]
  },
  {
   "cell_type": "code",
   "execution_count": 40,
   "metadata": {},
   "outputs": [
    {
     "data": {
      "text/plain": [
       "0.8110154905335628"
      ]
     },
     "execution_count": 40,
     "metadata": {},
     "output_type": "execute_result"
    }
   ],
   "source": [
    "grd = GradientBoostingClassifier(n_estimators=100, learning_rate=0.1, max_depth=1, random_state=1)\n",
    "grd.fit(X_train, y_train)\n",
    "grd.score(X_test, y_test)"
   ]
  },
  {
   "cell_type": "code",
   "execution_count": 47,
   "metadata": {
    "scrolled": false
   },
   "outputs": [
    {
     "data": {
      "image/png": "[encoded data removed]",
      "text/plain": [
       "<Figure size 432x288 with 1 Axes>"
      ]
     },
     "metadata": {
      "needs_background": "light"
     },
     "output_type": "display_data"
    }
   ],
   "source": [
    "# Create a new matplotlib figure\n",
    "fig = plt.figure()\n",
    "ax = fig.add_subplot()\n",
    "viz = FeatureImportances(grd, ax=ax)\n",
    "viz.fit(X, y)\n",
    "viz.poof()"
   ]
  },
  {
   "cell_type": "markdown",
   "metadata": {},
   "source": [
    "## Fit a Random Tree model"
   ]
  },
  {
   "cell_type": "code",
   "execution_count": 55,
   "metadata": {},
   "outputs": [
    {
     "name": "stdout",
     "output_type": "stream",
     "text": [
      "0.8068846815834768\n"
     ]
    }
   ],
   "source": [
    "rf=RandomForestClassifier()\n",
    "parameters = {'max_depth':[5, 15], 'n_estimators':[10,30]}\n",
    "rf_gs = GridSearchCV(rf, parameters)\n",
    "rf_gs.fit(X_train, y_train)\n",
    "print(rf_gs.score(X_test, y_test))"
   ]
  },
  {
   "cell_type": "markdown",
   "metadata": {},
   "source": [
    "### Given enough time, I would have fine tuned the parameters of the models to improve the model accuracy score."
   ]
  },
  {
   "cell_type": "markdown",
   "metadata": {},
   "source": [
    "# f) Fit the model on the data and construct 95-percent confidence intervals for the coefficients of the explanatory variables. What conclusions can you draw from these results? Present regression output in the most professional way and add any notes you think are necessary to explain the model specifications and output."
   ]
  },
  {
   "cell_type": "code",
   "execution_count": 59,
   "metadata": {},
   "outputs": [
    {
     "data": {
      "text/plain": [
       "0.8110154905335628"
      ]
     },
     "execution_count": 59,
     "metadata": {},
     "output_type": "execute_result"
    }
   ],
   "source": [
    "# Fit a Logistic regression\n",
    "log_lm = LogisticRegression()\n",
    "log_lm.fit(X_train, y_train)\n",
    "y_pred = log_lm.predict(X_test)\n",
    "log_lm.score(X_test, y_test)"
   ]
  },
  {
   "cell_type": "markdown",
   "metadata": {},
   "source": [
    "# g) Use a likelihood-ratio test to test the null hypothesis that none of the explanatory variables influences insurance uptake."
   ]
  },
  {
   "cell_type": "markdown",
   "metadata": {},
   "source": [
    "### Mixed linear regressions are used to fit the models. The llf attribute is generated for each model—this is the log likelihood statistic. The likelihood ratio test then compares the log likelihood values and tests whether the alternative model is significantly different to the null model. "
   ]
  },
  {
   "cell_type": "code",
   "execution_count": 79,
   "metadata": {},
   "outputs": [],
   "source": [
    "clean_data['age'] = clean_data['age in years']\n",
    "clean_data['household_size'] = clean_data['house hold size']"
   ]
  },
  {
   "cell_type": "code",
   "execution_count": 81,
   "metadata": {
    "scrolled": true
   },
   "outputs": [
    {
     "name": "stdout",
     "output_type": "stream",
     "text": [
      "            Mixed Linear Model Regression Results\n",
      "=============================================================\n",
      "Model:            MixedLM Dependent Variable: insurance_cover\n",
      "No. Observations: 8802    Method:             ML             \n",
      "No. Groups:       4       Scale:              0.1543         \n",
      "Min. group size:  1682    Likelihood:         -4271.7898     \n",
      "Max. group size:  3075    Converged:          Yes            \n",
      "Mean group size:  2200.5                                     \n",
      "---------------------------------------------------------------\n",
      "            Coef.   Std.Err.     z      P>|z|   [0.025   0.975]\n",
      "---------------------------------------------------------------\n",
      "Intercept   0.596      0.024   24.707   0.000    0.549    0.643\n",
      "age         0.005      0.000   14.241   0.000    0.005    0.006\n",
      "Group Var   0.001      0.003                                   \n",
      "=============================================================\n",
      "\n",
      "            Mixed Linear Model Regression Results\n",
      "=============================================================\n",
      "Model:            MixedLM Dependent Variable: insurance_cover\n",
      "No. Observations: 8802    Method:             ML             \n",
      "No. Groups:       4       Scale:              0.1539         \n",
      "Min. group size:  1682    Likelihood:         -4259.2417     \n",
      "Max. group size:  3075    Converged:          Yes            \n",
      "Mean group size:  2200.5                                     \n",
      "-------------------------------------------------------------\n",
      "                   Coef.  Std.Err.   z    P>|z| [0.025 0.975]\n",
      "-------------------------------------------------------------\n",
      "Intercept           0.647    0.026 25.049 0.000  0.597  0.698\n",
      "age                 0.005    0.000 13.481 0.000  0.004  0.006\n",
      "household_size     -0.014    0.003 -5.013 0.000 -0.019 -0.008\n",
      "Group Var           0.001    0.003                           \n",
      "=============================================================\n",
      "\n",
      "LR test, p value: 25.10, 0.0000\n"
     ]
    }
   ],
   "source": [
    "import statsmodels.api as sm\n",
    "import statsmodels.formula.api as smf\n",
    "from scipy import stats\n",
    "stats.chisqprob = lambda chisq, df: stats.chi2.sf(chisq, df)\n",
    "\n",
    "\n",
    "def lrtest(llmin, llmax):\n",
    "    lr = 2 * (llmax - llmin)\n",
    "    p = stats.chisqprob(lr, 1) # llmax has 1 dof more than llmin\n",
    "    return lr, p\n",
    "# fit age only to insurance_cover\n",
    "md = smf.mixedlm(\"insurance_cover ~ age\", clean_data, groups=clean_data[\"region of residence\"])\n",
    "mdf = md.fit(reml=False)\n",
    "print(mdf.summary())\n",
    "llf = mdf.llf\n",
    "\n",
    "#Fit age and house_hold_size to insurance_cover\n",
    "mdlitter = smf.mixedlm(\"insurance_cover ~ age + household_size\", clean_data, groups=clean_data[\"region of residence\"])\n",
    "mdflitter = mdlitter.fit(reml=False)\n",
    "print(mdflitter.summary())\n",
    "llflitter = mdflitter.llf\n",
    "\n",
    "lr, p = lrtest(llf, llflitter)\n",
    "print('LR test, p value: {:.2f}, {:.4f}'.format(lr, p))"
   ]
  },
  {
   "cell_type": "markdown",
   "metadata": {},
   "source": [
    "## Since the likelihood ratio test was statistically significant with p-value equal to 0, age and household_size does influence health insurance uptake, so we reject the null hypothesis that none of the explanatory variables influences insurance uptake."
   ]
  }
 ],
 "metadata": {
  "kernelspec": {
   "display_name": "Python 3",
   "language": "python",
   "name": "python3"
  },
  "language_info": {
   "codemirror_mode": {
    "name": "ipython",
    "version": 3
   },
   "file_extension": ".py",
   "mimetype": "text/x-python",
   "name": "python",
   "nbconvert_exporter": "python",
   "pygments_lexer": "ipython3",
   "version": "3.6.8"
  }
 },
 "nbformat": 4,
 "nbformat_minor": 2
}
