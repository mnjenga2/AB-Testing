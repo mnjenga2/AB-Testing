{
 "cells": [
  {
   "cell_type": "code",
   "execution_count": 1,
   "metadata": {},
   "outputs": [],
   "source": [
    "import pandas as pd\n",
    "import numpy as np\n",
    "import seaborn as sns\n",
    "import matplotlib.pyplot as plt\n",
    "%matplotlib inline\n",
    "%config IPCompleter.greedy=True\n",
    "import warnings\n",
    "warnings.filterwarnings('ignore')"
   ]
  },
  {
   "cell_type": "code",
   "execution_count": 2,
   "metadata": {},
   "outputs": [
    {
     "data": {
      "text/plain": [
       "['School data.xlsx']"
      ]
     },
     "execution_count": 2,
     "metadata": {},
     "output_type": "execute_result"
    }
   ],
   "source": [
    "import os\n",
    "os.chdir(\"/Data_Task\")\n",
    "os.listdir('.')"
   ]
  },
  {
   "cell_type": "markdown",
   "metadata": {},
   "source": [
    "# a) Import the “School data.xlsx” file and compute the total number of student enrolled in each school."
   ]
  },
  {
   "cell_type": "code",
   "execution_count": 3,
   "metadata": {},
   "outputs": [
    {
     "data": {
      "text/plain": [
       "['Data', 'District names']"
      ]
     },
     "execution_count": 3,
     "metadata": {},
     "output_type": "execute_result"
    }
   ],
   "source": [
    "school = pd.ExcelFile('School data.xlsx')\n",
    "school.sheet_names"
   ]
  },
  {
   "cell_type": "code",
   "execution_count": 4,
   "metadata": {},
   "outputs": [],
   "source": [
    "school_data=school.parse('Data')\n",
    "district_names = school.parse('District names')"
   ]
  },
  {
   "cell_type": "code",
   "execution_count": 4,
   "metadata": {
    "scrolled": true
   },
   "outputs": [
    {
     "ename": "NameError",
     "evalue": "name 'school_data' is not defined",
     "output_type": "error",
     "traceback": [
      "\u001b[1;31m---------------------------------------------------------------------------\u001b[0m",
      "\u001b[1;31mNameError\u001b[0m                                 Traceback (most recent call last)",
      "\u001b[1;32m<ipython-input-4-5bd22e3a4cc1>\u001b[0m in \u001b[0;36m<module>\u001b[1;34m\u001b[0m\n\u001b[1;32m----> 1\u001b[1;33m \u001b[0mschool_data\u001b[0m\u001b[1;33m.\u001b[0m\u001b[0mhead\u001b[0m\u001b[1;33m(\u001b[0m\u001b[1;33m)\u001b[0m\u001b[1;33m\u001b[0m\u001b[1;33m\u001b[0m\u001b[0m\n\u001b[0m",
      "\u001b[1;31mNameError\u001b[0m: name 'school_data' is not defined"
     ]
    }
   ],
   "source": [
    "school_data.head()"
   ]
  },
  {
   "cell_type": "code",
   "execution_count": 6,
   "metadata": {
    "scrolled": true
   },
   "outputs": [
    {
     "data": {
      "text/html": [
       "<div>\n",
       "<style scoped>\n",
       "    .dataframe tbody tr th:only-of-type {\n",
       "        vertical-align: middle;\n",
       "    }\n",
       "\n",
       "    .dataframe tbody tr th {\n",
       "        vertical-align: top;\n",
       "    }\n",
       "\n",
       "    .dataframe thead th {\n",
       "        text-align: right;\n",
       "    }\n",
       "</style>\n",
       "<table border=\"1\" class=\"dataframe\">\n",
       "  <thead>\n",
       "    <tr style=\"text-align: right;\">\n",
       "      <th></th>\n",
       "      <th>district_id</th>\n",
       "      <th>attended_male</th>\n",
       "      <th>attended_female</th>\n",
       "      <th>enrolled_male_students</th>\n",
       "      <th>enrolled_female_students</th>\n",
       "      <th>treatment</th>\n",
       "    </tr>\n",
       "  </thead>\n",
       "  <tbody>\n",
       "    <tr>\n",
       "      <th>count</th>\n",
       "      <td>6984.000000</td>\n",
       "      <td>6984.000000</td>\n",
       "      <td>6984.000000</td>\n",
       "      <td>6984.000000</td>\n",
       "      <td>6984.000000</td>\n",
       "      <td>6984.000000</td>\n",
       "    </tr>\n",
       "    <tr>\n",
       "      <th>mean</th>\n",
       "      <td>57.559708</td>\n",
       "      <td>253.302835</td>\n",
       "      <td>211.623711</td>\n",
       "      <td>531.897337</td>\n",
       "      <td>438.681987</td>\n",
       "      <td>0.497566</td>\n",
       "    </tr>\n",
       "    <tr>\n",
       "      <th>std</th>\n",
       "      <td>31.838156</td>\n",
       "      <td>85.753307</td>\n",
       "      <td>70.643882</td>\n",
       "      <td>266.401664</td>\n",
       "      <td>222.110178</td>\n",
       "      <td>0.500030</td>\n",
       "    </tr>\n",
       "    <tr>\n",
       "      <th>min</th>\n",
       "      <td>3.000000</td>\n",
       "      <td>0.000000</td>\n",
       "      <td>0.000000</td>\n",
       "      <td>-999.000000</td>\n",
       "      <td>-999.000000</td>\n",
       "      <td>0.000000</td>\n",
       "    </tr>\n",
       "    <tr>\n",
       "      <th>25%</th>\n",
       "      <td>39.000000</td>\n",
       "      <td>190.000000</td>\n",
       "      <td>161.000000</td>\n",
       "      <td>321.000000</td>\n",
       "      <td>267.000000</td>\n",
       "      <td>0.000000</td>\n",
       "    </tr>\n",
       "    <tr>\n",
       "      <th>50%</th>\n",
       "      <td>58.000000</td>\n",
       "      <td>247.000000</td>\n",
       "      <td>207.000000</td>\n",
       "      <td>479.000000</td>\n",
       "      <td>394.000000</td>\n",
       "      <td>0.000000</td>\n",
       "    </tr>\n",
       "    <tr>\n",
       "      <th>75%</th>\n",
       "      <td>79.000000</td>\n",
       "      <td>308.000000</td>\n",
       "      <td>257.000000</td>\n",
       "      <td>730.000000</td>\n",
       "      <td>601.000000</td>\n",
       "      <td>1.000000</td>\n",
       "    </tr>\n",
       "    <tr>\n",
       "      <th>max</th>\n",
       "      <td>200.000000</td>\n",
       "      <td>597.000000</td>\n",
       "      <td>483.000000</td>\n",
       "      <td>1194.000000</td>\n",
       "      <td>991.000000</td>\n",
       "      <td>1.000000</td>\n",
       "    </tr>\n",
       "  </tbody>\n",
       "</table>\n",
       "</div>"
      ],
      "text/plain": [
       "       district_id  attended_male  attended_female  enrolled_male_students  \\\n",
       "count  6984.000000    6984.000000      6984.000000             6984.000000   \n",
       "mean     57.559708     253.302835       211.623711              531.897337   \n",
       "std      31.838156      85.753307        70.643882              266.401664   \n",
       "min       3.000000       0.000000         0.000000             -999.000000   \n",
       "25%      39.000000     190.000000       161.000000              321.000000   \n",
       "50%      58.000000     247.000000       207.000000              479.000000   \n",
       "75%      79.000000     308.000000       257.000000              730.000000   \n",
       "max     200.000000     597.000000       483.000000             1194.000000   \n",
       "\n",
       "       enrolled_female_students    treatment  \n",
       "count               6984.000000  6984.000000  \n",
       "mean                 438.681987     0.497566  \n",
       "std                  222.110178     0.500030  \n",
       "min                 -999.000000     0.000000  \n",
       "25%                  267.000000     0.000000  \n",
       "50%                  394.000000     0.000000  \n",
       "75%                  601.000000     1.000000  \n",
       "max                  991.000000     1.000000  "
      ]
     },
     "execution_count": 6,
     "metadata": {},
     "output_type": "execute_result"
    }
   ],
   "source": [
    "school_data.describe()"
   ]
  },
  {
   "cell_type": "code",
   "execution_count": 7,
   "metadata": {},
   "outputs": [
    {
     "data": {
      "text/plain": [
       "district_id                 0\n",
       "attended_male               0\n",
       "attended_female             0\n",
       "enrolled_male_students      0\n",
       "enrolled_female_students    0\n",
       "treatment                   0\n",
       "dtype: int64"
      ]
     },
     "execution_count": 7,
     "metadata": {},
     "output_type": "execute_result"
    }
   ],
   "source": [
    "# Check for missing data\n",
    "school_data.isnull().sum()"
   ]
  },
  {
   "cell_type": "code",
   "execution_count": 16,
   "metadata": {
    "scrolled": true
   },
   "outputs": [],
   "source": [
    "district_names.head()\n",
    "district_names=district_names.rename(columns={'DISTRICT ID':'district_id'})\n"
   ]
  },
  {
   "cell_type": "code",
   "execution_count": 17,
   "metadata": {},
   "outputs": [
    {
     "data": {
      "text/html": [
       "<div>\n",
       "<style scoped>\n",
       "    .dataframe tbody tr th:only-of-type {\n",
       "        vertical-align: middle;\n",
       "    }\n",
       "\n",
       "    .dataframe tbody tr th {\n",
       "        vertical-align: top;\n",
       "    }\n",
       "\n",
       "    .dataframe thead th {\n",
       "        text-align: right;\n",
       "    }\n",
       "</style>\n",
       "<table border=\"1\" class=\"dataframe\">\n",
       "  <thead>\n",
       "    <tr style=\"text-align: right;\">\n",
       "      <th></th>\n",
       "      <th>district_id</th>\n",
       "      <th>District Name</th>\n",
       "    </tr>\n",
       "  </thead>\n",
       "  <tbody>\n",
       "    <tr>\n",
       "      <th>0</th>\n",
       "      <td>78</td>\n",
       "      <td>Agago</td>\n",
       "    </tr>\n",
       "    <tr>\n",
       "      <th>1</th>\n",
       "      <td>79</td>\n",
       "      <td>Alebtong</td>\n",
       "    </tr>\n",
       "    <tr>\n",
       "      <th>2</th>\n",
       "      <td>3</td>\n",
       "      <td>Amolatar</td>\n",
       "    </tr>\n",
       "    <tr>\n",
       "      <th>3</th>\n",
       "      <td>80</td>\n",
       "      <td>Amudat</td>\n",
       "    </tr>\n",
       "    <tr>\n",
       "      <th>4</th>\n",
       "      <td>39</td>\n",
       "      <td>Amuru</td>\n",
       "    </tr>\n",
       "  </tbody>\n",
       "</table>\n",
       "</div>"
      ],
      "text/plain": [
       "   district_id District Name\n",
       "0           78         Agago\n",
       "1           79      Alebtong\n",
       "2            3      Amolatar\n",
       "3           80        Amudat\n",
       "4           39         Amuru"
      ]
     },
     "execution_count": 17,
     "metadata": {},
     "output_type": "execute_result"
    }
   ],
   "source": [
    "district_names.head()"
   ]
  },
  {
   "cell_type": "markdown",
   "metadata": {},
   "source": [
    "\n",
    "## Compute the total number of student enrolled in each school.\n",
    "### Hint: Each row of data contains data for each school within the district."
   ]
  },
  {
   "cell_type": "code",
   "execution_count": 18,
   "metadata": {},
   "outputs": [
    {
     "data": {
      "text/plain": [
       "0    1389\n",
       "1    1544\n",
       "2    1280\n",
       "3    1551\n",
       "4    1128\n",
       "Name: total_enrolled, dtype: int64"
      ]
     },
     "execution_count": 18,
     "metadata": {},
     "output_type": "execute_result"
    }
   ],
   "source": [
    "# We get the total number of student enrolled in each school by adding enrolled_male_students and enrolled_female_students columns\n",
    "school_data['total_enrolled'] = school_data['enrolled_male_students'] + school_data['enrolled_female_students']\n",
    "school_data.total_enrolled.head()"
   ]
  },
  {
   "cell_type": "markdown",
   "metadata": {},
   "source": [
    "# b) Create the school ID variable by first sorting the data within each district by the total number of enrollees per school. Let the ID be 1 for the school within each district with the highest number of enrolled students, 2 for the second highest and so on."
   ]
  },
  {
   "cell_type": "code",
   "execution_count": 19,
   "metadata": {
    "scrolled": true
   },
   "outputs": [
    {
     "data": {
      "text/html": [
       "<div>\n",
       "<style scoped>\n",
       "    .dataframe tbody tr th:only-of-type {\n",
       "        vertical-align: middle;\n",
       "    }\n",
       "\n",
       "    .dataframe tbody tr th {\n",
       "        vertical-align: top;\n",
       "    }\n",
       "\n",
       "    .dataframe thead th {\n",
       "        text-align: right;\n",
       "    }\n",
       "</style>\n",
       "<table border=\"1\" class=\"dataframe\">\n",
       "  <thead>\n",
       "    <tr style=\"text-align: right;\">\n",
       "      <th></th>\n",
       "      <th>district_id</th>\n",
       "      <th>attended_male</th>\n",
       "      <th>attended_female</th>\n",
       "      <th>enrolled_male_students</th>\n",
       "      <th>enrolled_female_students</th>\n",
       "      <th>treatment</th>\n",
       "      <th>total_enrolled</th>\n",
       "    </tr>\n",
       "  </thead>\n",
       "  <tbody>\n",
       "    <tr>\n",
       "      <th>0</th>\n",
       "      <td>78</td>\n",
       "      <td>208</td>\n",
       "      <td>205</td>\n",
       "      <td>769</td>\n",
       "      <td>620</td>\n",
       "      <td>1</td>\n",
       "      <td>1389</td>\n",
       "    </tr>\n",
       "    <tr>\n",
       "      <th>1</th>\n",
       "      <td>78</td>\n",
       "      <td>337</td>\n",
       "      <td>281</td>\n",
       "      <td>859</td>\n",
       "      <td>685</td>\n",
       "      <td>0</td>\n",
       "      <td>1544</td>\n",
       "    </tr>\n",
       "    <tr>\n",
       "      <th>2</th>\n",
       "      <td>78</td>\n",
       "      <td>215</td>\n",
       "      <td>162</td>\n",
       "      <td>695</td>\n",
       "      <td>585</td>\n",
       "      <td>0</td>\n",
       "      <td>1280</td>\n",
       "    </tr>\n",
       "    <tr>\n",
       "      <th>3</th>\n",
       "      <td>78</td>\n",
       "      <td>200</td>\n",
       "      <td>167</td>\n",
       "      <td>850</td>\n",
       "      <td>701</td>\n",
       "      <td>0</td>\n",
       "      <td>1551</td>\n",
       "    </tr>\n",
       "    <tr>\n",
       "      <th>4</th>\n",
       "      <td>78</td>\n",
       "      <td>128</td>\n",
       "      <td>137</td>\n",
       "      <td>609</td>\n",
       "      <td>519</td>\n",
       "      <td>1</td>\n",
       "      <td>1128</td>\n",
       "    </tr>\n",
       "  </tbody>\n",
       "</table>\n",
       "</div>"
      ],
      "text/plain": [
       "   district_id  attended_male  attended_female  enrolled_male_students  \\\n",
       "0           78            208              205                     769   \n",
       "1           78            337              281                     859   \n",
       "2           78            215              162                     695   \n",
       "3           78            200              167                     850   \n",
       "4           78            128              137                     609   \n",
       "\n",
       "   enrolled_female_students  treatment  total_enrolled  \n",
       "0                       620          1            1389  \n",
       "1                       685          0            1544  \n",
       "2                       585          0            1280  \n",
       "3                       701          0            1551  \n",
       "4                       519          1            1128  "
      ]
     },
     "execution_count": 19,
     "metadata": {},
     "output_type": "execute_result"
    }
   ],
   "source": [
    "df= school_data.copy()\n",
    "df.head()"
   ]
  },
  {
   "cell_type": "code",
   "execution_count": 20,
   "metadata": {
    "scrolled": true
   },
   "outputs": [],
   "source": [
    "df = df.groupby('district_id').apply(lambda x: x.sort_values('total_enrolled', ascending=False)).reset_index(drop=True)\n",
    "df['school_id'] = df.groupby('district_id')['total_enrolled'].rank(method='first', ascending=False)"
   ]
  },
  {
   "cell_type": "code",
   "execution_count": 21,
   "metadata": {},
   "outputs": [
    {
     "data": {
      "text/html": [
       "<div>\n",
       "<style scoped>\n",
       "    .dataframe tbody tr th:only-of-type {\n",
       "        vertical-align: middle;\n",
       "    }\n",
       "\n",
       "    .dataframe tbody tr th {\n",
       "        vertical-align: top;\n",
       "    }\n",
       "\n",
       "    .dataframe thead th {\n",
       "        text-align: right;\n",
       "    }\n",
       "</style>\n",
       "<table border=\"1\" class=\"dataframe\">\n",
       "  <thead>\n",
       "    <tr style=\"text-align: right;\">\n",
       "      <th></th>\n",
       "      <th>district_id</th>\n",
       "      <th>attended_male</th>\n",
       "      <th>attended_female</th>\n",
       "      <th>enrolled_male_students</th>\n",
       "      <th>enrolled_female_students</th>\n",
       "      <th>treatment</th>\n",
       "      <th>total_enrolled</th>\n",
       "      <th>school_id</th>\n",
       "    </tr>\n",
       "  </thead>\n",
       "  <tbody>\n",
       "    <tr>\n",
       "      <th>0</th>\n",
       "      <td>3</td>\n",
       "      <td>212</td>\n",
       "      <td>177</td>\n",
       "      <td>1020</td>\n",
       "      <td>959</td>\n",
       "      <td>0</td>\n",
       "      <td>1979</td>\n",
       "      <td>1.0</td>\n",
       "    </tr>\n",
       "    <tr>\n",
       "      <th>1</th>\n",
       "      <td>3</td>\n",
       "      <td>335</td>\n",
       "      <td>331</td>\n",
       "      <td>985</td>\n",
       "      <td>962</td>\n",
       "      <td>1</td>\n",
       "      <td>1947</td>\n",
       "      <td>2.0</td>\n",
       "    </tr>\n",
       "    <tr>\n",
       "      <th>2</th>\n",
       "      <td>3</td>\n",
       "      <td>261</td>\n",
       "      <td>186</td>\n",
       "      <td>1139</td>\n",
       "      <td>807</td>\n",
       "      <td>0</td>\n",
       "      <td>1946</td>\n",
       "      <td>3.0</td>\n",
       "    </tr>\n",
       "    <tr>\n",
       "      <th>3</th>\n",
       "      <td>3</td>\n",
       "      <td>208</td>\n",
       "      <td>166</td>\n",
       "      <td>1014</td>\n",
       "      <td>920</td>\n",
       "      <td>0</td>\n",
       "      <td>1934</td>\n",
       "      <td>4.0</td>\n",
       "    </tr>\n",
       "    <tr>\n",
       "      <th>4</th>\n",
       "      <td>3</td>\n",
       "      <td>238</td>\n",
       "      <td>184</td>\n",
       "      <td>1050</td>\n",
       "      <td>881</td>\n",
       "      <td>1</td>\n",
       "      <td>1931</td>\n",
       "      <td>5.0</td>\n",
       "    </tr>\n",
       "  </tbody>\n",
       "</table>\n",
       "</div>"
      ],
      "text/plain": [
       "   district_id  attended_male  attended_female  enrolled_male_students  \\\n",
       "0            3            212              177                    1020   \n",
       "1            3            335              331                     985   \n",
       "2            3            261              186                    1139   \n",
       "3            3            208              166                    1014   \n",
       "4            3            238              184                    1050   \n",
       "\n",
       "   enrolled_female_students  treatment  total_enrolled  school_id  \n",
       "0                       959          0            1979        1.0  \n",
       "1                       962          1            1947        2.0  \n",
       "2                       807          0            1946        3.0  \n",
       "3                       920          0            1934        4.0  \n",
       "4                       881          1            1931        5.0  "
      ]
     },
     "execution_count": 21,
     "metadata": {},
     "output_type": "execute_result"
    }
   ],
   "source": [
    "df.head()"
   ]
  },
  {
   "cell_type": "code",
   "execution_count": 22,
   "metadata": {},
   "outputs": [
    {
     "data": {
      "text/html": [
       "<div>\n",
       "<style scoped>\n",
       "    .dataframe tbody tr th:only-of-type {\n",
       "        vertical-align: middle;\n",
       "    }\n",
       "\n",
       "    .dataframe tbody tr th {\n",
       "        vertical-align: top;\n",
       "    }\n",
       "\n",
       "    .dataframe thead th {\n",
       "        text-align: right;\n",
       "    }\n",
       "</style>\n",
       "<table border=\"1\" class=\"dataframe\">\n",
       "  <thead>\n",
       "    <tr style=\"text-align: right;\">\n",
       "      <th></th>\n",
       "      <th>district_id</th>\n",
       "      <th>attended_male</th>\n",
       "      <th>attended_female</th>\n",
       "      <th>enrolled_male_students</th>\n",
       "      <th>enrolled_female_students</th>\n",
       "      <th>treatment</th>\n",
       "      <th>total_enrolled</th>\n",
       "      <th>school_id</th>\n",
       "    </tr>\n",
       "  </thead>\n",
       "  <tbody>\n",
       "    <tr>\n",
       "      <th>6979</th>\n",
       "      <td>200</td>\n",
       "      <td>224</td>\n",
       "      <td>199</td>\n",
       "      <td>311</td>\n",
       "      <td>258</td>\n",
       "      <td>1</td>\n",
       "      <td>569</td>\n",
       "      <td>10.0</td>\n",
       "    </tr>\n",
       "    <tr>\n",
       "      <th>6980</th>\n",
       "      <td>200</td>\n",
       "      <td>224</td>\n",
       "      <td>199</td>\n",
       "      <td>311</td>\n",
       "      <td>258</td>\n",
       "      <td>1</td>\n",
       "      <td>569</td>\n",
       "      <td>11.0</td>\n",
       "    </tr>\n",
       "    <tr>\n",
       "      <th>6981</th>\n",
       "      <td>200</td>\n",
       "      <td>237</td>\n",
       "      <td>207</td>\n",
       "      <td>254</td>\n",
       "      <td>220</td>\n",
       "      <td>1</td>\n",
       "      <td>474</td>\n",
       "      <td>12.0</td>\n",
       "    </tr>\n",
       "    <tr>\n",
       "      <th>6982</th>\n",
       "      <td>200</td>\n",
       "      <td>169</td>\n",
       "      <td>146</td>\n",
       "      <td>171</td>\n",
       "      <td>147</td>\n",
       "      <td>1</td>\n",
       "      <td>318</td>\n",
       "      <td>13.0</td>\n",
       "    </tr>\n",
       "    <tr>\n",
       "      <th>6983</th>\n",
       "      <td>200</td>\n",
       "      <td>169</td>\n",
       "      <td>146</td>\n",
       "      <td>171</td>\n",
       "      <td>147</td>\n",
       "      <td>0</td>\n",
       "      <td>318</td>\n",
       "      <td>14.0</td>\n",
       "    </tr>\n",
       "  </tbody>\n",
       "</table>\n",
       "</div>"
      ],
      "text/plain": [
       "      district_id  attended_male  attended_female  enrolled_male_students  \\\n",
       "6979          200            224              199                     311   \n",
       "6980          200            224              199                     311   \n",
       "6981          200            237              207                     254   \n",
       "6982          200            169              146                     171   \n",
       "6983          200            169              146                     171   \n",
       "\n",
       "      enrolled_female_students  treatment  total_enrolled  school_id  \n",
       "6979                       258          1             569       10.0  \n",
       "6980                       258          1             569       11.0  \n",
       "6981                       220          1             474       12.0  \n",
       "6982                       147          1             318       13.0  \n",
       "6983                       147          0             318       14.0  "
      ]
     },
     "execution_count": 22,
     "metadata": {},
     "output_type": "execute_result"
    }
   ],
   "source": [
    "df.tail()"
   ]
  },
  {
   "cell_type": "markdown",
   "metadata": {},
   "source": [
    "#  c) Add district names to the main dataset using data from the second sheet. Make sure all towns are named and drop any irrelevant towns."
   ]
  },
  {
   "cell_type": "code",
   "execution_count": 23,
   "metadata": {
    "scrolled": true
   },
   "outputs": [
    {
     "data": {
      "text/plain": [
       "(28, 30)"
      ]
     },
     "execution_count": 23,
     "metadata": {},
     "output_type": "execute_result"
    }
   ],
   "source": [
    "# Check if the number of unique district_id in both sheets\n",
    "df['district_id'].nunique(), district_names['district_id'].nunique()"
   ]
  },
  {
   "cell_type": "code",
   "execution_count": 24,
   "metadata": {},
   "outputs": [
    {
     "data": {
      "text/plain": [
       "array([ True,  True,  True,  True,  True,  True,  True,  True,  True,\n",
       "        True,  True,  True,  True,  True,  True,  True,  True,  True,\n",
       "        True,  True,  True,  True,  True,  True,  True,  True,  True,\n",
       "       False])"
      ]
     },
     "execution_count": 24,
     "metadata": {},
     "output_type": "execute_result"
    }
   ],
   "source": [
    "# Check if all district_id in the school data are in district names data\n",
    "x=df['district_id'].value_counts().keys()\n",
    "y=district_names['district_id'].value_counts().keys()\n",
    "x.isin(y)"
   ]
  },
  {
   "cell_type": "code",
   "execution_count": 25,
   "metadata": {},
   "outputs": [
    {
     "name": "stdout",
     "output_type": "stream",
     "text": [
      "district_id 200 is missing in the district_names dataframe. This will ommit some data from our school dataframe\n"
     ]
    }
   ],
   "source": [
    "print('district_id 200 is missing in the district_names dataframe. This will ommit some data from our school dataframe')"
   ]
  },
  {
   "cell_type": "code",
   "execution_count": 26,
   "metadata": {},
   "outputs": [
    {
     "name": "stdout",
     "output_type": "stream",
     "text": [
      "After merging the two sheets, we get a total of 6970 schools.\n"
     ]
    }
   ],
   "source": [
    "data = df.merge(district_names, on='district_id')\n",
    "print(\"After merging the two sheets, we get a total of {} schools.\".format(data['district_id'].count()))"
   ]
  },
  {
   "cell_type": "code",
   "execution_count": 27,
   "metadata": {
    "scrolled": false
   },
   "outputs": [
    {
     "data": {
      "text/html": [
       "<div>\n",
       "<style scoped>\n",
       "    .dataframe tbody tr th:only-of-type {\n",
       "        vertical-align: middle;\n",
       "    }\n",
       "\n",
       "    .dataframe tbody tr th {\n",
       "        vertical-align: top;\n",
       "    }\n",
       "\n",
       "    .dataframe thead th {\n",
       "        text-align: right;\n",
       "    }\n",
       "</style>\n",
       "<table border=\"1\" class=\"dataframe\">\n",
       "  <thead>\n",
       "    <tr style=\"text-align: right;\">\n",
       "      <th></th>\n",
       "      <th>district_id</th>\n",
       "      <th>attended_male</th>\n",
       "      <th>attended_female</th>\n",
       "      <th>enrolled_male_students</th>\n",
       "      <th>enrolled_female_students</th>\n",
       "      <th>treatment</th>\n",
       "      <th>total_enrolled</th>\n",
       "      <th>school_id</th>\n",
       "      <th>District Name</th>\n",
       "    </tr>\n",
       "  </thead>\n",
       "  <tbody>\n",
       "    <tr>\n",
       "      <th>0</th>\n",
       "      <td>3</td>\n",
       "      <td>212</td>\n",
       "      <td>177</td>\n",
       "      <td>1020</td>\n",
       "      <td>959</td>\n",
       "      <td>0</td>\n",
       "      <td>1979</td>\n",
       "      <td>1.0</td>\n",
       "      <td>Amolatar</td>\n",
       "    </tr>\n",
       "    <tr>\n",
       "      <th>1</th>\n",
       "      <td>3</td>\n",
       "      <td>335</td>\n",
       "      <td>331</td>\n",
       "      <td>985</td>\n",
       "      <td>962</td>\n",
       "      <td>1</td>\n",
       "      <td>1947</td>\n",
       "      <td>2.0</td>\n",
       "      <td>Amolatar</td>\n",
       "    </tr>\n",
       "    <tr>\n",
       "      <th>2</th>\n",
       "      <td>3</td>\n",
       "      <td>261</td>\n",
       "      <td>186</td>\n",
       "      <td>1139</td>\n",
       "      <td>807</td>\n",
       "      <td>0</td>\n",
       "      <td>1946</td>\n",
       "      <td>3.0</td>\n",
       "      <td>Amolatar</td>\n",
       "    </tr>\n",
       "    <tr>\n",
       "      <th>3</th>\n",
       "      <td>3</td>\n",
       "      <td>208</td>\n",
       "      <td>166</td>\n",
       "      <td>1014</td>\n",
       "      <td>920</td>\n",
       "      <td>0</td>\n",
       "      <td>1934</td>\n",
       "      <td>4.0</td>\n",
       "      <td>Amolatar</td>\n",
       "    </tr>\n",
       "    <tr>\n",
       "      <th>4</th>\n",
       "      <td>3</td>\n",
       "      <td>238</td>\n",
       "      <td>184</td>\n",
       "      <td>1050</td>\n",
       "      <td>881</td>\n",
       "      <td>1</td>\n",
       "      <td>1931</td>\n",
       "      <td>5.0</td>\n",
       "      <td>Amolatar</td>\n",
       "    </tr>\n",
       "  </tbody>\n",
       "</table>\n",
       "</div>"
      ],
      "text/plain": [
       "   district_id  attended_male  attended_female  enrolled_male_students  \\\n",
       "0            3            212              177                    1020   \n",
       "1            3            335              331                     985   \n",
       "2            3            261              186                    1139   \n",
       "3            3            208              166                    1014   \n",
       "4            3            238              184                    1050   \n",
       "\n",
       "   enrolled_female_students  treatment  total_enrolled  school_id  \\\n",
       "0                       959          0            1979        1.0   \n",
       "1                       962          1            1947        2.0   \n",
       "2                       807          0            1946        3.0   \n",
       "3                       920          0            1934        4.0   \n",
       "4                       881          1            1931        5.0   \n",
       "\n",
       "  District Name  \n",
       "0      Amolatar  \n",
       "1      Amolatar  \n",
       "2      Amolatar  \n",
       "3      Amolatar  \n",
       "4      Amolatar  "
      ]
     },
     "execution_count": 27,
     "metadata": {},
     "output_type": "execute_result"
    }
   ],
   "source": [
    "data.head()"
   ]
  },
  {
   "cell_type": "code",
   "execution_count": 28,
   "metadata": {},
   "outputs": [
    {
     "data": {
      "text/html": [
       "<div>\n",
       "<style scoped>\n",
       "    .dataframe tbody tr th:only-of-type {\n",
       "        vertical-align: middle;\n",
       "    }\n",
       "\n",
       "    .dataframe tbody tr th {\n",
       "        vertical-align: top;\n",
       "    }\n",
       "\n",
       "    .dataframe thead th {\n",
       "        text-align: right;\n",
       "    }\n",
       "</style>\n",
       "<table border=\"1\" class=\"dataframe\">\n",
       "  <thead>\n",
       "    <tr style=\"text-align: right;\">\n",
       "      <th></th>\n",
       "      <th>district_id</th>\n",
       "      <th>attended_male</th>\n",
       "      <th>attended_female</th>\n",
       "      <th>enrolled_male_students</th>\n",
       "      <th>enrolled_female_students</th>\n",
       "      <th>treatment</th>\n",
       "      <th>total_enrolled</th>\n",
       "      <th>school_id</th>\n",
       "      <th>District Name</th>\n",
       "    </tr>\n",
       "  </thead>\n",
       "  <tbody>\n",
       "    <tr>\n",
       "      <th>0</th>\n",
       "      <td>3</td>\n",
       "      <td>212</td>\n",
       "      <td>177</td>\n",
       "      <td>1020</td>\n",
       "      <td>959</td>\n",
       "      <td>0</td>\n",
       "      <td>1979</td>\n",
       "      <td>1.0</td>\n",
       "      <td>Amolatar</td>\n",
       "    </tr>\n",
       "    <tr>\n",
       "      <th>1</th>\n",
       "      <td>3</td>\n",
       "      <td>335</td>\n",
       "      <td>331</td>\n",
       "      <td>985</td>\n",
       "      <td>962</td>\n",
       "      <td>1</td>\n",
       "      <td>1947</td>\n",
       "      <td>2.0</td>\n",
       "      <td>Amolatar</td>\n",
       "    </tr>\n",
       "    <tr>\n",
       "      <th>2</th>\n",
       "      <td>3</td>\n",
       "      <td>261</td>\n",
       "      <td>186</td>\n",
       "      <td>1139</td>\n",
       "      <td>807</td>\n",
       "      <td>0</td>\n",
       "      <td>1946</td>\n",
       "      <td>3.0</td>\n",
       "      <td>Amolatar</td>\n",
       "    </tr>\n",
       "    <tr>\n",
       "      <th>3</th>\n",
       "      <td>3</td>\n",
       "      <td>208</td>\n",
       "      <td>166</td>\n",
       "      <td>1014</td>\n",
       "      <td>920</td>\n",
       "      <td>0</td>\n",
       "      <td>1934</td>\n",
       "      <td>4.0</td>\n",
       "      <td>Amolatar</td>\n",
       "    </tr>\n",
       "    <tr>\n",
       "      <th>4</th>\n",
       "      <td>3</td>\n",
       "      <td>238</td>\n",
       "      <td>184</td>\n",
       "      <td>1050</td>\n",
       "      <td>881</td>\n",
       "      <td>1</td>\n",
       "      <td>1931</td>\n",
       "      <td>5.0</td>\n",
       "      <td>Amolatar</td>\n",
       "    </tr>\n",
       "  </tbody>\n",
       "</table>\n",
       "</div>"
      ],
      "text/plain": [
       "   district_id  attended_male  attended_female  enrolled_male_students  \\\n",
       "0            3            212              177                    1020   \n",
       "1            3            335              331                     985   \n",
       "2            3            261              186                    1139   \n",
       "3            3            208              166                    1014   \n",
       "4            3            238              184                    1050   \n",
       "\n",
       "   enrolled_female_students  treatment  total_enrolled  school_id  \\\n",
       "0                       959          0            1979        1.0   \n",
       "1                       962          1            1947        2.0   \n",
       "2                       807          0            1946        3.0   \n",
       "3                       920          0            1934        4.0   \n",
       "4                       881          1            1931        5.0   \n",
       "\n",
       "  District Name  \n",
       "0      Amolatar  \n",
       "1      Amolatar  \n",
       "2      Amolatar  \n",
       "3      Amolatar  \n",
       "4      Amolatar  "
      ]
     },
     "execution_count": 28,
     "metadata": {},
     "output_type": "execute_result"
    }
   ],
   "source": [
    "# We format the District Name column\n",
    "# data = data.rename(columns={'District Name':'district_name'})\n",
    "data.head()"
   ]
  },
  {
   "cell_type": "markdown",
   "metadata": {},
   "source": [
    "# d) Check the numeric variables for outliers. What is the importance of this exercise? Explain how you handled outliers if there were any? If they weren’t give a brief explanation of how you would have handled them if they were present."
   ]
  },
  {
   "cell_type": "code",
   "execution_count": 29,
   "metadata": {},
   "outputs": [
    {
     "data": {
      "text/html": [
       "<div>\n",
       "<style scoped>\n",
       "    .dataframe tbody tr th:only-of-type {\n",
       "        vertical-align: middle;\n",
       "    }\n",
       "\n",
       "    .dataframe tbody tr th {\n",
       "        vertical-align: top;\n",
       "    }\n",
       "\n",
       "    .dataframe thead th {\n",
       "        text-align: right;\n",
       "    }\n",
       "</style>\n",
       "<table border=\"1\" class=\"dataframe\">\n",
       "  <thead>\n",
       "    <tr style=\"text-align: right;\">\n",
       "      <th></th>\n",
       "      <th>district_id</th>\n",
       "      <th>attended_male</th>\n",
       "      <th>attended_female</th>\n",
       "      <th>enrolled_male_students</th>\n",
       "      <th>enrolled_female_students</th>\n",
       "      <th>treatment</th>\n",
       "      <th>total_enrolled</th>\n",
       "      <th>school_id</th>\n",
       "    </tr>\n",
       "  </thead>\n",
       "  <tbody>\n",
       "    <tr>\n",
       "      <th>count</th>\n",
       "      <td>6970.000000</td>\n",
       "      <td>6970.000000</td>\n",
       "      <td>6970.000000</td>\n",
       "      <td>6970.000000</td>\n",
       "      <td>6970.000000</td>\n",
       "      <td>6970.000000</td>\n",
       "      <td>6970.000000</td>\n",
       "      <td>6970.000000</td>\n",
       "    </tr>\n",
       "    <tr>\n",
       "      <th>mean</th>\n",
       "      <td>57.273601</td>\n",
       "      <td>253.307891</td>\n",
       "      <td>211.623816</td>\n",
       "      <td>531.930416</td>\n",
       "      <td>438.726112</td>\n",
       "      <td>0.497274</td>\n",
       "      <td>970.656528</td>\n",
       "      <td>130.898709</td>\n",
       "    </tr>\n",
       "    <tr>\n",
       "      <th>std</th>\n",
       "      <td>31.222808</td>\n",
       "      <td>85.781391</td>\n",
       "      <td>70.677926</td>\n",
       "      <td>266.403643</td>\n",
       "      <td>222.125543</td>\n",
       "      <td>0.500028</td>\n",
       "      <td>485.917746</td>\n",
       "      <td>76.853836</td>\n",
       "    </tr>\n",
       "    <tr>\n",
       "      <th>min</th>\n",
       "      <td>3.000000</td>\n",
       "      <td>0.000000</td>\n",
       "      <td>0.000000</td>\n",
       "      <td>-999.000000</td>\n",
       "      <td>-999.000000</td>\n",
       "      <td>0.000000</td>\n",
       "      <td>-1998.000000</td>\n",
       "      <td>1.000000</td>\n",
       "    </tr>\n",
       "    <tr>\n",
       "      <th>25%</th>\n",
       "      <td>39.000000</td>\n",
       "      <td>190.000000</td>\n",
       "      <td>161.000000</td>\n",
       "      <td>321.000000</td>\n",
       "      <td>268.000000</td>\n",
       "      <td>0.000000</td>\n",
       "      <td>592.000000</td>\n",
       "      <td>65.000000</td>\n",
       "    </tr>\n",
       "    <tr>\n",
       "      <th>50%</th>\n",
       "      <td>58.000000</td>\n",
       "      <td>247.000000</td>\n",
       "      <td>207.000000</td>\n",
       "      <td>479.000000</td>\n",
       "      <td>394.000000</td>\n",
       "      <td>0.000000</td>\n",
       "      <td>870.500000</td>\n",
       "      <td>130.000000</td>\n",
       "    </tr>\n",
       "    <tr>\n",
       "      <th>75%</th>\n",
       "      <td>79.000000</td>\n",
       "      <td>308.000000</td>\n",
       "      <td>257.000000</td>\n",
       "      <td>730.000000</td>\n",
       "      <td>600.750000</td>\n",
       "      <td>1.000000</td>\n",
       "      <td>1331.750000</td>\n",
       "      <td>194.000000</td>\n",
       "    </tr>\n",
       "    <tr>\n",
       "      <th>max</th>\n",
       "      <td>108.000000</td>\n",
       "      <td>597.000000</td>\n",
       "      <td>483.000000</td>\n",
       "      <td>1194.000000</td>\n",
       "      <td>991.000000</td>\n",
       "      <td>1.000000</td>\n",
       "      <td>1999.000000</td>\n",
       "      <td>319.000000</td>\n",
       "    </tr>\n",
       "  </tbody>\n",
       "</table>\n",
       "</div>"
      ],
      "text/plain": [
       "       district_id  attended_male  attended_female  enrolled_male_students  \\\n",
       "count  6970.000000    6970.000000      6970.000000             6970.000000   \n",
       "mean     57.273601     253.307891       211.623816              531.930416   \n",
       "std      31.222808      85.781391        70.677926              266.403643   \n",
       "min       3.000000       0.000000         0.000000             -999.000000   \n",
       "25%      39.000000     190.000000       161.000000              321.000000   \n",
       "50%      58.000000     247.000000       207.000000              479.000000   \n",
       "75%      79.000000     308.000000       257.000000              730.000000   \n",
       "max     108.000000     597.000000       483.000000             1194.000000   \n",
       "\n",
       "       enrolled_female_students    treatment  total_enrolled    school_id  \n",
       "count               6970.000000  6970.000000     6970.000000  6970.000000  \n",
       "mean                 438.726112     0.497274      970.656528   130.898709  \n",
       "std                  222.125543     0.500028      485.917746    76.853836  \n",
       "min                 -999.000000     0.000000    -1998.000000     1.000000  \n",
       "25%                  268.000000     0.000000      592.000000    65.000000  \n",
       "50%                  394.000000     0.000000      870.500000   130.000000  \n",
       "75%                  600.750000     1.000000     1331.750000   194.000000  \n",
       "max                  991.000000     1.000000     1999.000000   319.000000  "
      ]
     },
     "execution_count": 29,
     "metadata": {},
     "output_type": "execute_result"
    }
   ],
   "source": [
    "# Summary statistics\n",
    "data.describe()"
   ]
  },
  {
   "cell_type": "code",
   "execution_count": 30,
   "metadata": {},
   "outputs": [
    {
     "data": {
      "text/plain": [
       "<matplotlib.axes._subplots.AxesSubplot at 0x1d03b459240>"
      ]
     },
     "execution_count": 30,
     "metadata": {},
     "output_type": "execute_result"
    },
    {
     "data": {
      "image/png": "[encoded data removed]",
      "text/plain": [
       "<Figure size 432x288 with 1 Axes>"
      ]
     },
     "metadata": {
      "needs_background": "light"
     },
     "output_type": "display_data"
    }
   ],
   "source": [
    "# We use boxplot to visualize for any outliers\n",
    "data.boxplot(column=['attended_male', 'attended_female', 'enrolled_male_students', 'enrolled_female_students', 'total_enrolled'], rot=45)"
   ]
  },
  {
   "cell_type": "code",
   "execution_count": 31,
   "metadata": {},
   "outputs": [
    {
     "name": "stdout",
     "output_type": "stream",
     "text": [
      "From the boxplot above, outliers are present in form of negative count of students.\n",
      "There are negative values in enrolled_male_students and in enrolled_female_students leading to a negative total_enrolled\n"
     ]
    }
   ],
   "source": [
    "print('From the boxplot above, outliers are present in form of negative count of students.')\n",
    "print('There are negative values in enrolled_male_students and in enrolled_female_students leading to a negative total_enrolled')"
   ]
  },
  {
   "cell_type": "code",
   "execution_count": 32,
   "metadata": {},
   "outputs": [
    {
     "data": {
      "text/html": [
       "<div>\n",
       "<style scoped>\n",
       "    .dataframe tbody tr th:only-of-type {\n",
       "        vertical-align: middle;\n",
       "    }\n",
       "\n",
       "    .dataframe tbody tr th {\n",
       "        vertical-align: top;\n",
       "    }\n",
       "\n",
       "    .dataframe thead th {\n",
       "        text-align: right;\n",
       "    }\n",
       "</style>\n",
       "<table border=\"1\" class=\"dataframe\">\n",
       "  <thead>\n",
       "    <tr style=\"text-align: right;\">\n",
       "      <th></th>\n",
       "      <th>district_id</th>\n",
       "      <th>attended_male</th>\n",
       "      <th>attended_female</th>\n",
       "      <th>enrolled_male_students</th>\n",
       "      <th>enrolled_female_students</th>\n",
       "      <th>treatment</th>\n",
       "      <th>total_enrolled</th>\n",
       "      <th>school_id</th>\n",
       "    </tr>\n",
       "  </thead>\n",
       "  <tbody>\n",
       "    <tr>\n",
       "      <th>count</th>\n",
       "      <td>6948.000000</td>\n",
       "      <td>6948.000000</td>\n",
       "      <td>6948.000000</td>\n",
       "      <td>6948.000000</td>\n",
       "      <td>6948.000000</td>\n",
       "      <td>6948.000000</td>\n",
       "      <td>6948.000000</td>\n",
       "      <td>6948.000000</td>\n",
       "    </tr>\n",
       "    <tr>\n",
       "      <th>mean</th>\n",
       "      <td>57.266839</td>\n",
       "      <td>253.421128</td>\n",
       "      <td>211.712435</td>\n",
       "      <td>536.777634</td>\n",
       "      <td>443.278210</td>\n",
       "      <td>0.497265</td>\n",
       "      <td>980.055843</td>\n",
       "      <td>130.489493</td>\n",
       "    </tr>\n",
       "    <tr>\n",
       "      <th>std</th>\n",
       "      <td>31.217074</td>\n",
       "      <td>85.762862</td>\n",
       "      <td>70.669681</td>\n",
       "      <td>252.489157</td>\n",
       "      <td>207.195765</td>\n",
       "      <td>0.500029</td>\n",
       "      <td>457.022744</td>\n",
       "      <td>76.616889</td>\n",
       "    </tr>\n",
       "    <tr>\n",
       "      <th>min</th>\n",
       "      <td>3.000000</td>\n",
       "      <td>0.000000</td>\n",
       "      <td>0.000000</td>\n",
       "      <td>106.000000</td>\n",
       "      <td>88.000000</td>\n",
       "      <td>0.000000</td>\n",
       "      <td>204.000000</td>\n",
       "      <td>1.000000</td>\n",
       "    </tr>\n",
       "    <tr>\n",
       "      <th>25%</th>\n",
       "      <td>39.000000</td>\n",
       "      <td>190.000000</td>\n",
       "      <td>161.000000</td>\n",
       "      <td>322.000000</td>\n",
       "      <td>269.000000</td>\n",
       "      <td>0.000000</td>\n",
       "      <td>593.000000</td>\n",
       "      <td>65.000000</td>\n",
       "    </tr>\n",
       "    <tr>\n",
       "      <th>50%</th>\n",
       "      <td>58.000000</td>\n",
       "      <td>247.000000</td>\n",
       "      <td>207.000000</td>\n",
       "      <td>481.000000</td>\n",
       "      <td>395.000000</td>\n",
       "      <td>0.000000</td>\n",
       "      <td>873.500000</td>\n",
       "      <td>129.000000</td>\n",
       "    </tr>\n",
       "    <tr>\n",
       "      <th>75%</th>\n",
       "      <td>79.000000</td>\n",
       "      <td>309.000000</td>\n",
       "      <td>257.000000</td>\n",
       "      <td>731.000000</td>\n",
       "      <td>601.000000</td>\n",
       "      <td>1.000000</td>\n",
       "      <td>1333.250000</td>\n",
       "      <td>193.250000</td>\n",
       "    </tr>\n",
       "    <tr>\n",
       "      <th>max</th>\n",
       "      <td>108.000000</td>\n",
       "      <td>597.000000</td>\n",
       "      <td>483.000000</td>\n",
       "      <td>1194.000000</td>\n",
       "      <td>991.000000</td>\n",
       "      <td>1.000000</td>\n",
       "      <td>1999.000000</td>\n",
       "      <td>319.000000</td>\n",
       "    </tr>\n",
       "  </tbody>\n",
       "</table>\n",
       "</div>"
      ],
      "text/plain": [
       "       district_id  attended_male  attended_female  enrolled_male_students  \\\n",
       "count  6948.000000    6948.000000      6948.000000             6948.000000   \n",
       "mean     57.266839     253.421128       211.712435              536.777634   \n",
       "std      31.217074      85.762862        70.669681              252.489157   \n",
       "min       3.000000       0.000000         0.000000              106.000000   \n",
       "25%      39.000000     190.000000       161.000000              322.000000   \n",
       "50%      58.000000     247.000000       207.000000              481.000000   \n",
       "75%      79.000000     309.000000       257.000000              731.000000   \n",
       "max     108.000000     597.000000       483.000000             1194.000000   \n",
       "\n",
       "       enrolled_female_students    treatment  total_enrolled    school_id  \n",
       "count               6948.000000  6948.000000     6948.000000  6948.000000  \n",
       "mean                 443.278210     0.497265      980.055843   130.489493  \n",
       "std                  207.195765     0.500029      457.022744    76.616889  \n",
       "min                   88.000000     0.000000      204.000000     1.000000  \n",
       "25%                  269.000000     0.000000      593.000000    65.000000  \n",
       "50%                  395.000000     0.000000      873.500000   129.000000  \n",
       "75%                  601.000000     1.000000     1333.250000   193.250000  \n",
       "max                  991.000000     1.000000     1999.000000   319.000000  "
      ]
     },
     "execution_count": 32,
     "metadata": {},
     "output_type": "execute_result"
    }
   ],
   "source": [
    "# We clean our data from the outliers\n",
    "data=data[data['total_enrolled']>0]\n",
    "data.describe()"
   ]
  },
  {
   "cell_type": "markdown",
   "metadata": {},
   "source": [
    "# e) Label values for the treatment variable appropriately (1 = Treatment, 0 = Control)."
   ]
  },
  {
   "cell_type": "code",
   "execution_count": 33,
   "metadata": {
    "scrolled": true
   },
   "outputs": [
    {
     "data": {
      "text/html": [
       "<div>\n",
       "<style scoped>\n",
       "    .dataframe tbody tr th:only-of-type {\n",
       "        vertical-align: middle;\n",
       "    }\n",
       "\n",
       "    .dataframe tbody tr th {\n",
       "        vertical-align: top;\n",
       "    }\n",
       "\n",
       "    .dataframe thead th {\n",
       "        text-align: right;\n",
       "    }\n",
       "</style>\n",
       "<table border=\"1\" class=\"dataframe\">\n",
       "  <thead>\n",
       "    <tr style=\"text-align: right;\">\n",
       "      <th></th>\n",
       "      <th>district_id</th>\n",
       "      <th>attended_male</th>\n",
       "      <th>attended_female</th>\n",
       "      <th>enrolled_male_students</th>\n",
       "      <th>enrolled_female_students</th>\n",
       "      <th>treatment</th>\n",
       "      <th>total_enrolled</th>\n",
       "      <th>school_id</th>\n",
       "      <th>District Name</th>\n",
       "      <th>treatment_type</th>\n",
       "    </tr>\n",
       "  </thead>\n",
       "  <tbody>\n",
       "    <tr>\n",
       "      <th>0</th>\n",
       "      <td>3</td>\n",
       "      <td>212</td>\n",
       "      <td>177</td>\n",
       "      <td>1020</td>\n",
       "      <td>959</td>\n",
       "      <td>0</td>\n",
       "      <td>1979</td>\n",
       "      <td>1.0</td>\n",
       "      <td>Amolatar</td>\n",
       "      <td>Control</td>\n",
       "    </tr>\n",
       "    <tr>\n",
       "      <th>1</th>\n",
       "      <td>3</td>\n",
       "      <td>335</td>\n",
       "      <td>331</td>\n",
       "      <td>985</td>\n",
       "      <td>962</td>\n",
       "      <td>1</td>\n",
       "      <td>1947</td>\n",
       "      <td>2.0</td>\n",
       "      <td>Amolatar</td>\n",
       "      <td>Treatment</td>\n",
       "    </tr>\n",
       "    <tr>\n",
       "      <th>2</th>\n",
       "      <td>3</td>\n",
       "      <td>261</td>\n",
       "      <td>186</td>\n",
       "      <td>1139</td>\n",
       "      <td>807</td>\n",
       "      <td>0</td>\n",
       "      <td>1946</td>\n",
       "      <td>3.0</td>\n",
       "      <td>Amolatar</td>\n",
       "      <td>Control</td>\n",
       "    </tr>\n",
       "    <tr>\n",
       "      <th>3</th>\n",
       "      <td>3</td>\n",
       "      <td>208</td>\n",
       "      <td>166</td>\n",
       "      <td>1014</td>\n",
       "      <td>920</td>\n",
       "      <td>0</td>\n",
       "      <td>1934</td>\n",
       "      <td>4.0</td>\n",
       "      <td>Amolatar</td>\n",
       "      <td>Control</td>\n",
       "    </tr>\n",
       "    <tr>\n",
       "      <th>4</th>\n",
       "      <td>3</td>\n",
       "      <td>238</td>\n",
       "      <td>184</td>\n",
       "      <td>1050</td>\n",
       "      <td>881</td>\n",
       "      <td>1</td>\n",
       "      <td>1931</td>\n",
       "      <td>5.0</td>\n",
       "      <td>Amolatar</td>\n",
       "      <td>Treatment</td>\n",
       "    </tr>\n",
       "  </tbody>\n",
       "</table>\n",
       "</div>"
      ],
      "text/plain": [
       "   district_id  attended_male  attended_female  enrolled_male_students  \\\n",
       "0            3            212              177                    1020   \n",
       "1            3            335              331                     985   \n",
       "2            3            261              186                    1139   \n",
       "3            3            208              166                    1014   \n",
       "4            3            238              184                    1050   \n",
       "\n",
       "   enrolled_female_students  treatment  total_enrolled  school_id  \\\n",
       "0                       959          0            1979        1.0   \n",
       "1                       962          1            1947        2.0   \n",
       "2                       807          0            1946        3.0   \n",
       "3                       920          0            1934        4.0   \n",
       "4                       881          1            1931        5.0   \n",
       "\n",
       "  District Name treatment_type  \n",
       "0      Amolatar        Control  \n",
       "1      Amolatar      Treatment  \n",
       "2      Amolatar        Control  \n",
       "3      Amolatar        Control  \n",
       "4      Amolatar      Treatment  "
      ]
     },
     "execution_count": 33,
     "metadata": {},
     "output_type": "execute_result"
    }
   ],
   "source": [
    "data['treatment_type'] = np.where(data['treatment']==1, 'Treatment', 'Control')\n",
    "data.head()"
   ]
  },
  {
   "cell_type": "markdown",
   "metadata": {},
   "source": [
    "# f) Create a well labelled graph that shows the difference in female attendance between treatment and control schools."
   ]
  },
  {
   "cell_type": "code",
   "execution_count": 36,
   "metadata": {},
   "outputs": [
    {
     "data": {
      "text/plain": [
       "<matplotlib.axes._subplots.AxesSubplot at 0x1d03b8a7438>"
      ]
     },
     "execution_count": 36,
     "metadata": {},
     "output_type": "execute_result"
    },
    {
     "data": {
      "image/png": "[encoded data removed]",
      "text/plain": [
       "<Figure size 432x288 with 1 Axes>"
      ]
     },
     "metadata": {
      "needs_background": "light"
     },
     "output_type": "display_data"
    }
   ],
   "source": [
    "sns.barplot(x='treatment_type', y='attended_female', data=data, estimator=sum)"
   ]
  },
  {
   "cell_type": "markdown",
   "metadata": {},
   "source": [
    "# g) Create a function that takes in a numeric variable and outputs a table of summary statistics and a histogram showing the distribution of the variable. Test out the function using variables in this dataset."
   ]
  },
  {
   "cell_type": "code",
   "execution_count": 37,
   "metadata": {},
   "outputs": [
    {
     "data": {
      "text/plain": [
       "(count    6948.000000\n",
       " mean      211.712435\n",
       " std        70.669681\n",
       " min         0.000000\n",
       " 25%       161.000000\n",
       " 50%       207.000000\n",
       " 75%       257.000000\n",
       " max       483.000000\n",
       " Name: attended_female, dtype: float64,\n",
       " <matplotlib.axes._subplots.AxesSubplot at 0x1d03b8feef0>)"
      ]
     },
     "execution_count": 37,
     "metadata": {},
     "output_type": "execute_result"
    },
    {
     "data": {
      "image/png": "[encoded data removed]",
      "text/plain": [
       "<Figure size 432x288 with 1 Axes>"
      ]
     },
     "metadata": {
      "needs_background": "light"
     },
     "output_type": "display_data"
    }
   ],
   "source": [
    "def sum_hist(a, x):\n",
    "    return x.iloc[:, a].describe(), x.iloc[:, a].hist()\n",
    "sum_hist(2, data)"
   ]
  },
  {
   "cell_type": "markdown",
   "metadata": {},
   "source": [
    "# h) Regress total attendance on treatment, with district fixed-effects.\n",
    "## We use OLS model\n"
   ]
  },
  {
   "cell_type": "code",
   "execution_count": 39,
   "metadata": {
    "scrolled": true
   },
   "outputs": [
    {
     "data": {
      "text/html": [
       "<div>\n",
       "<style scoped>\n",
       "    .dataframe tbody tr th:only-of-type {\n",
       "        vertical-align: middle;\n",
       "    }\n",
       "\n",
       "    .dataframe tbody tr th {\n",
       "        vertical-align: top;\n",
       "    }\n",
       "\n",
       "    .dataframe thead th {\n",
       "        text-align: right;\n",
       "    }\n",
       "</style>\n",
       "<table border=\"1\" class=\"dataframe\">\n",
       "  <thead>\n",
       "    <tr style=\"text-align: right;\">\n",
       "      <th></th>\n",
       "      <th>district_id</th>\n",
       "      <th>attended_male</th>\n",
       "      <th>attended_female</th>\n",
       "      <th>enrolled_male_students</th>\n",
       "      <th>enrolled_female_students</th>\n",
       "      <th>treatment</th>\n",
       "      <th>total_enrolled</th>\n",
       "      <th>school_id</th>\n",
       "      <th>District Name</th>\n",
       "      <th>treatment_type</th>\n",
       "      <th>total_attended</th>\n",
       "    </tr>\n",
       "  </thead>\n",
       "  <tbody>\n",
       "    <tr>\n",
       "      <th>0</th>\n",
       "      <td>3</td>\n",
       "      <td>212</td>\n",
       "      <td>177</td>\n",
       "      <td>1020</td>\n",
       "      <td>959</td>\n",
       "      <td>0</td>\n",
       "      <td>1979</td>\n",
       "      <td>1.0</td>\n",
       "      <td>Amolatar</td>\n",
       "      <td>Control</td>\n",
       "      <td>389</td>\n",
       "    </tr>\n",
       "    <tr>\n",
       "      <th>1</th>\n",
       "      <td>3</td>\n",
       "      <td>335</td>\n",
       "      <td>331</td>\n",
       "      <td>985</td>\n",
       "      <td>962</td>\n",
       "      <td>1</td>\n",
       "      <td>1947</td>\n",
       "      <td>2.0</td>\n",
       "      <td>Amolatar</td>\n",
       "      <td>Treatment</td>\n",
       "      <td>666</td>\n",
       "    </tr>\n",
       "    <tr>\n",
       "      <th>2</th>\n",
       "      <td>3</td>\n",
       "      <td>261</td>\n",
       "      <td>186</td>\n",
       "      <td>1139</td>\n",
       "      <td>807</td>\n",
       "      <td>0</td>\n",
       "      <td>1946</td>\n",
       "      <td>3.0</td>\n",
       "      <td>Amolatar</td>\n",
       "      <td>Control</td>\n",
       "      <td>447</td>\n",
       "    </tr>\n",
       "    <tr>\n",
       "      <th>3</th>\n",
       "      <td>3</td>\n",
       "      <td>208</td>\n",
       "      <td>166</td>\n",
       "      <td>1014</td>\n",
       "      <td>920</td>\n",
       "      <td>0</td>\n",
       "      <td>1934</td>\n",
       "      <td>4.0</td>\n",
       "      <td>Amolatar</td>\n",
       "      <td>Control</td>\n",
       "      <td>374</td>\n",
       "    </tr>\n",
       "    <tr>\n",
       "      <th>4</th>\n",
       "      <td>3</td>\n",
       "      <td>238</td>\n",
       "      <td>184</td>\n",
       "      <td>1050</td>\n",
       "      <td>881</td>\n",
       "      <td>1</td>\n",
       "      <td>1931</td>\n",
       "      <td>5.0</td>\n",
       "      <td>Amolatar</td>\n",
       "      <td>Treatment</td>\n",
       "      <td>422</td>\n",
       "    </tr>\n",
       "  </tbody>\n",
       "</table>\n",
       "</div>"
      ],
      "text/plain": [
       "   district_id  attended_male  attended_female  enrolled_male_students  \\\n",
       "0            3            212              177                    1020   \n",
       "1            3            335              331                     985   \n",
       "2            3            261              186                    1139   \n",
       "3            3            208              166                    1014   \n",
       "4            3            238              184                    1050   \n",
       "\n",
       "   enrolled_female_students  treatment  total_enrolled  school_id  \\\n",
       "0                       959          0            1979        1.0   \n",
       "1                       962          1            1947        2.0   \n",
       "2                       807          0            1946        3.0   \n",
       "3                       920          0            1934        4.0   \n",
       "4                       881          1            1931        5.0   \n",
       "\n",
       "  District Name treatment_type  total_attended  \n",
       "0      Amolatar        Control             389  \n",
       "1      Amolatar      Treatment             666  \n",
       "2      Amolatar        Control             447  \n",
       "3      Amolatar        Control             374  \n",
       "4      Amolatar      Treatment             422  "
      ]
     },
     "execution_count": 39,
     "metadata": {},
     "output_type": "execute_result"
    }
   ],
   "source": [
    "# We create a new column called total_attendance by adding attended_male to attended_female\n",
    "data['total_attended'] = data['attended_male'] + data['attended_female']\n",
    "data.head()\n",
    "# data['average_attendance_per_district'] = data.groupby"
   ]
  },
  {
   "cell_type": "code",
   "execution_count": 43,
   "metadata": {
    "scrolled": true
   },
   "outputs": [
    {
     "name": "stdout",
     "output_type": "stream",
     "text": [
      "           Mixed Linear Model Regression Results\n",
      "============================================================\n",
      "Model:            MixedLM Dependent Variable: total_attended\n",
      "No. Observations: 6948    Method:             REML          \n",
      "No. Groups:       27      Scale:              21799.9107    \n",
      "Min. group size:  218     Likelihood:         -44599.6549   \n",
      "Max. group size:  319     Converged:          Yes           \n",
      "Mean group size:  257.3                                     \n",
      "------------------------------------------------------------\n",
      "               Coef.   Std.Err.   z    P>|z|  [0.025  0.975]\n",
      "------------------------------------------------------------\n",
      "Intercept      463.094    8.925 51.886 0.000 445.600 480.587\n",
      "treatment        7.691    3.543  2.171 0.030   0.747  14.635\n",
      "Group Var     1981.461    3.897                             \n",
      "============================================================\n",
      "\n"
     ]
    }
   ],
   "source": [
    "import statsmodels.api as sm\n",
    "import statsmodels.formula.api as smf\n",
    "md = smf.mixedlm(\"total_attended ~ treatment\", data, groups=data['district_id'])\n",
    "mdf = md.fit()\n",
    "print(mdf.summary())"
   ]
  },
  {
   "cell_type": "markdown",
   "metadata": {},
   "source": [
    "# i) Regress total attendance on treatment, with district fixed-effects and controlling for the total number of enrolled students at each school."
   ]
  },
  {
   "cell_type": "code",
   "execution_count": 45,
   "metadata": {},
   "outputs": [
    {
     "name": "stdout",
     "output_type": "stream",
     "text": [
      "            Mixed Linear Model Regression Results\n",
      "=============================================================\n",
      "Model:             MixedLM Dependent Variable: total_attended\n",
      "No. Observations:  6948    Method:             REML          \n",
      "No. Groups:        27      Scale:              21109.5774    \n",
      "Min. group size:   218     Likelihood:         -44491.7199   \n",
      "Max. group size:   319     Converged:          Yes           \n",
      "Mean group size:   257.3                                     \n",
      "-------------------------------------------------------------\n",
      "                Coef.   Std.Err.   z    P>|z|  [0.025  0.975]\n",
      "-------------------------------------------------------------\n",
      "Intercept       405.977    9.464 42.897 0.000 387.428 424.526\n",
      "treatment         8.405    3.487  2.411 0.016   1.572  15.239\n",
      "total_enrolled    0.058    0.004 15.126 0.000   0.050   0.065\n",
      "Group Var      1869.325    3.742                             \n",
      "=============================================================\n",
      "\n"
     ]
    }
   ],
   "source": [
    "import statsmodels.api as sm\n",
    "import statsmodels.formula.api as smf\n",
    "md = smf.mixedlm(\"total_attended ~ treatment + total_enrolled\", data, groups=data['district_id'])\n",
    "mdf = md.fit()\n",
    "print(mdf.summary())"
   ]
  },
  {
   "cell_type": "markdown",
   "metadata": {},
   "source": [
    "# j) Explain the statistical methodology used and reasons for the choice. Give a detailed description of the analysis results and why there are differences, if any, between model in (h) and (i). When displaying the table of outputs, leave out the district fixed effects."
   ]
  },
  {
   "cell_type": "markdown",
   "metadata": {},
   "source": [
    "# I used the p-value\n",
    "## p-value helps you to decide whether there is a relationship between two variables or not.\n",
    "\n",
    "## The smaller the p-value this mean the more confident you are about the existence of relationship between the two variables. The origins of p-values comes form hypothesis testing in statistics. In hypothesis testing, you have two hypothesis:\n",
    "\n",
    "## H0 (called the null hypothesis ) : There is no relationship between the two variables.\n",
    "\n",
    "## H1 (called the alternative hypothesis): There exist a relationship between the two variables.\n",
    "\n",
    "## If the p-value is less than small threshold (often 0.05 is used), then you can reject the null hypothesis H0, which means that you decide that there is a relationship between the two variables.\n",
    "\n",
    "## One intuitive interpretation of p-value: it is the likelihood of observing the data points when the null hypothesis is true (there is no relationship between the two variables). Therefore, if the p-value is too small this means that it is very unlikely that the dataset was generated by chance and we decide that null hypothesis is false."
   ]
  },
  {
   "cell_type": "markdown",
   "metadata": {},
   "source": [
    "# p-value for treatment in h is 0.03\n",
    "# p-value for treatment in i is 0.016\n",
    "## When controlling the enrollment, the p-value reduces greatly indicating great relationship between treatment and attendance."
   ]
  }
 ],
 "metadata": {
  "kernelspec": {
   "display_name": "Python 3",
   "language": "python",
   "name": "python3"
  },
  "language_info": {
   "codemirror_mode": {
    "name": "ipython",
    "version": 3
   },
   "file_extension": ".py",
   "mimetype": "text/x-python",
   "name": "python",
   "nbconvert_exporter": "python",
   "pygments_lexer": "ipython3",
   "version": "3.6.8"
  }
 },
 "nbformat": 4,
 "nbformat_minor": 2
}
